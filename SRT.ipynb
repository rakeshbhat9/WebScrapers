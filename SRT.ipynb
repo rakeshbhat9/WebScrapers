{
  "nbformat": 4,
  "nbformat_minor": 0,
  "metadata": {
    "colab": {
      "name": "SRT.ipynb",
      "version": "0.3.2",
      "provenance": [],
      "collapsed_sections": [
        "BvrG5JMq7lYa",
        "K5xWqdil4m_C"
      ]
    }
  },
  "cells": [
    {
      "cell_type": "markdown",
      "metadata": {
        "id": "view-in-github",
        "colab_type": "text"
      },
      "source": [
        "[View in Colaboratory](https://colab.research.google.com/github/rakeshbhat9/WebScrapers/blob/master/SRT.ipynb)"
      ]
    },
    {
      "metadata": {
        "id": "BvrG5JMq7lYa",
        "colab_type": "text"
      },
      "cell_type": "markdown",
      "source": [
        "### Import libraries and Connect to Gdrive"
      ]
    },
    {
      "metadata": {
        "id": "23Q_UYx_UBQ5",
        "colab_type": "code",
        "colab": {}
      },
      "cell_type": "code",
      "source": [
        "# Data Analysis and Data Viz\n",
        "\n",
        "import pandas as pd\n",
        "import numpy as np\n",
        "import matplotlib.pyplot as plt\n",
        "import seaborn as sns\n",
        "\n",
        "%matplotlib inline\n",
        "\n",
        "# Web Scraping\n",
        "\n",
        "import requests\n",
        "import time\n",
        "from bs4 import BeautifulSoup"
      ],
      "execution_count": 0,
      "outputs": []
    },
    {
      "metadata": {
        "id": "ducncAS8FlCN",
        "colab_type": "code",
        "colab": {}
      },
      "cell_type": "code",
      "source": [
        "# Connect Gdrive\n",
        "\n",
        "!apt-get install -y -qq software-properties-common python-software-properties module-init-tools\n",
        "!add-apt-repository -y ppa:alessandro-strada/ppa 2>&1 > /dev/null\n",
        "!apt-get update -qq 2>&1 > /dev/null\n",
        "!apt-get -y install -qq google-drive-ocamlfuse fuse\n",
        "from google.colab import auth\n",
        "auth.authenticate_user()\n",
        "from oauth2client.client import GoogleCredentials\n",
        "creds = GoogleCredentials.get_application_default()\n",
        "import getpass\n",
        "!google-drive-ocamlfuse -headless -id={creds.client_id} -secret={creds.client_secret} < /dev/null 2>&1 | grep URL\n",
        "vcode = getpass.getpass()\n",
        "!echo {vcode} | google-drive-ocamlfuse -headless -id={creds.client_id} -secret={creds.client_secret}\n",
        "\n",
        "!mkdir -p drive\n",
        "!google-drive-ocamlfuse drive"
      ],
      "execution_count": 0,
      "outputs": []
    },
    {
      "metadata": {
        "id": "OqF57_fH8LLb",
        "colab_type": "text"
      },
      "cell_type": "markdown",
      "source": [
        "### Data Analysis"
      ]
    },
    {
      "metadata": {
        "id": "FEEJ2f4dULu2",
        "colab_type": "code",
        "colab": {}
      },
      "cell_type": "code",
      "source": [
        "# Data source: http://stats.espncricinfo.com/ci/engine/player/35320.html?class=2;orderby=sixes;template=results;type=batting;view=innings\n",
        "\n",
        "d = pd.read_csv('drive/Colab Notebooks/SRT/SRTData.csv',header = None)"
      ],
      "execution_count": 0,
      "outputs": []
    },
    {
      "metadata": {
        "id": "yR0EbSjvUXRe",
        "colab_type": "code",
        "colab": {
          "base_uri": "https://localhost:8080/",
          "height": 204
        },
        "outputId": "ae898403-cbbf-4150-ba19-68c413e2d410"
      },
      "cell_type": "code",
      "source": [
        "# Top 10 rows\n",
        "\n",
        "d.head()"
      ],
      "execution_count": 232,
      "outputs": [
        {
          "output_type": "execute_result",
          "data": {
            "text/html": [
              "<div>\n",
              "<style scoped>\n",
              "    .dataframe tbody tr th:only-of-type {\n",
              "        vertical-align: middle;\n",
              "    }\n",
              "\n",
              "    .dataframe tbody tr th {\n",
              "        vertical-align: top;\n",
              "    }\n",
              "\n",
              "    .dataframe thead th {\n",
              "        text-align: right;\n",
              "    }\n",
              "</style>\n",
              "<table border=\"1\" class=\"dataframe\">\n",
              "  <thead>\n",
              "    <tr style=\"text-align: right;\">\n",
              "      <th></th>\n",
              "      <th>0</th>\n",
              "      <th>1</th>\n",
              "      <th>2</th>\n",
              "      <th>3</th>\n",
              "      <th>4</th>\n",
              "      <th>5</th>\n",
              "      <th>6</th>\n",
              "      <th>7</th>\n",
              "      <th>8</th>\n",
              "      <th>9</th>\n",
              "      <th>10</th>\n",
              "      <th>11</th>\n",
              "      <th>12</th>\n",
              "      <th>13</th>\n",
              "    </tr>\n",
              "  </thead>\n",
              "  <tbody>\n",
              "    <tr>\n",
              "      <th>0</th>\n",
              "      <td>200*</td>\n",
              "      <td>226</td>\n",
              "      <td>147</td>\n",
              "      <td>25</td>\n",
              "      <td>3</td>\n",
              "      <td>136.05</td>\n",
              "      <td>2</td>\n",
              "      <td>not out</td>\n",
              "      <td>1</td>\n",
              "      <td>NaN</td>\n",
              "      <td>v South Africa</td>\n",
              "      <td>Gwalior</td>\n",
              "      <td>24 Feb 2010</td>\n",
              "      <td>ODI # 2962</td>\n",
              "    </tr>\n",
              "    <tr>\n",
              "      <th>1</th>\n",
              "      <td>186*</td>\n",
              "      <td>221</td>\n",
              "      <td>150</td>\n",
              "      <td>20</td>\n",
              "      <td>3</td>\n",
              "      <td>124</td>\n",
              "      <td>2</td>\n",
              "      <td>not out</td>\n",
              "      <td>1</td>\n",
              "      <td>NaN</td>\n",
              "      <td>v New Zealand</td>\n",
              "      <td>Hyderabad (Deccan)</td>\n",
              "      <td>8 Nov 1999</td>\n",
              "      <td>ODI # 1523</td>\n",
              "    </tr>\n",
              "    <tr>\n",
              "      <th>2</th>\n",
              "      <td>175</td>\n",
              "      <td>210</td>\n",
              "      <td>141</td>\n",
              "      <td>19</td>\n",
              "      <td>4</td>\n",
              "      <td>124.11</td>\n",
              "      <td>2</td>\n",
              "      <td>caught</td>\n",
              "      <td>2</td>\n",
              "      <td>NaN</td>\n",
              "      <td>v Australia</td>\n",
              "      <td>Hyderabad (Deccan)</td>\n",
              "      <td>5 Nov 2009</td>\n",
              "      <td>ODI # 2923</td>\n",
              "    </tr>\n",
              "    <tr>\n",
              "      <th>3</th>\n",
              "      <td>163*</td>\n",
              "      <td>206</td>\n",
              "      <td>133</td>\n",
              "      <td>16</td>\n",
              "      <td>5</td>\n",
              "      <td>122.55</td>\n",
              "      <td>2</td>\n",
              "      <td>retired notout</td>\n",
              "      <td>1</td>\n",
              "      <td>NaN</td>\n",
              "      <td>v New Zealand</td>\n",
              "      <td>Christchurch</td>\n",
              "      <td>8 Mar 2009</td>\n",
              "      <td>ODI # 2823</td>\n",
              "    </tr>\n",
              "    <tr>\n",
              "      <th>4</th>\n",
              "      <td>152</td>\n",
              "      <td>193</td>\n",
              "      <td>151</td>\n",
              "      <td>18</td>\n",
              "      <td>0</td>\n",
              "      <td>100.66</td>\n",
              "      <td>2</td>\n",
              "      <td>bowled</td>\n",
              "      <td>1</td>\n",
              "      <td>NaN</td>\n",
              "      <td>v Namibia</td>\n",
              "      <td>Pietermaritzburg</td>\n",
              "      <td>23 Feb 2003</td>\n",
              "      <td>ODI # 1964</td>\n",
              "    </tr>\n",
              "  </tbody>\n",
              "</table>\n",
              "</div>"
            ],
            "text/plain": [
              "     0    1    2   3  4       5  6               7  8   9               10  \\\n",
              "0  200*  226  147  25  3  136.05  2         not out  1 NaN  v South Africa   \n",
              "1  186*  221  150  20  3     124  2         not out  1 NaN   v New Zealand   \n",
              "2   175  210  141  19  4  124.11  2          caught  2 NaN     v Australia   \n",
              "3  163*  206  133  16  5  122.55  2  retired notout  1 NaN   v New Zealand   \n",
              "4   152  193  151  18  0  100.66  2          bowled  1 NaN       v Namibia   \n",
              "\n",
              "                   11           12          13  \n",
              "0             Gwalior  24 Feb 2010  ODI # 2962  \n",
              "1  Hyderabad (Deccan)   8 Nov 1999  ODI # 1523  \n",
              "2  Hyderabad (Deccan)   5 Nov 2009  ODI # 2923  \n",
              "3        Christchurch   8 Mar 2009  ODI # 2823  \n",
              "4    Pietermaritzburg  23 Feb 2003  ODI # 1964  "
            ]
          },
          "metadata": {
            "tags": []
          },
          "execution_count": 232
        }
      ]
    },
    {
      "metadata": {
        "id": "x2gPAmFofTdX",
        "colab_type": "code",
        "colab": {
          "base_uri": "https://localhost:8080/",
          "height": 34
        },
        "outputId": "1fa8e423-50cf-4cea-9d40-ee5196804efb"
      },
      "cell_type": "code",
      "source": [
        "# Number of rows = number of games played, columns\n",
        "\n",
        "d.shape"
      ],
      "execution_count": 233,
      "outputs": [
        {
          "output_type": "execute_result",
          "data": {
            "text/plain": [
              "(463, 14)"
            ]
          },
          "metadata": {
            "tags": []
          },
          "execution_count": 233
        }
      ]
    },
    {
      "metadata": {
        "id": "ieXTkg9rWuRN",
        "colab_type": "code",
        "colab": {}
      },
      "cell_type": "code",
      "source": [
        "# Rename columns\n",
        "\n",
        "d.columns = ['score','mins','balls_faced','fours','sixes','sr','pos','dismissal','innings','drop','opp','ground','start_date','odi']"
      ],
      "execution_count": 0,
      "outputs": []
    },
    {
      "metadata": {
        "id": "pnmNdISzXwq0",
        "colab_type": "code",
        "colab": {}
      },
      "cell_type": "code",
      "source": [
        "# Drop rogue column\n",
        "\n",
        "d.drop('drop',axis = 1, inplace=True)"
      ],
      "execution_count": 0,
      "outputs": []
    },
    {
      "metadata": {
        "id": "c3zFGYOiXohq",
        "colab_type": "code",
        "colab": {
          "base_uri": "https://localhost:8080/",
          "height": 204
        },
        "outputId": "f0960034-8381-4e09-cad3-b86ecc7d2af2"
      },
      "cell_type": "code",
      "source": [
        "# Top 10 rows\n",
        "\n",
        "d.head()"
      ],
      "execution_count": 236,
      "outputs": [
        {
          "output_type": "execute_result",
          "data": {
            "text/html": [
              "<div>\n",
              "<style scoped>\n",
              "    .dataframe tbody tr th:only-of-type {\n",
              "        vertical-align: middle;\n",
              "    }\n",
              "\n",
              "    .dataframe tbody tr th {\n",
              "        vertical-align: top;\n",
              "    }\n",
              "\n",
              "    .dataframe thead th {\n",
              "        text-align: right;\n",
              "    }\n",
              "</style>\n",
              "<table border=\"1\" class=\"dataframe\">\n",
              "  <thead>\n",
              "    <tr style=\"text-align: right;\">\n",
              "      <th></th>\n",
              "      <th>score</th>\n",
              "      <th>mins</th>\n",
              "      <th>balls_faced</th>\n",
              "      <th>fours</th>\n",
              "      <th>sixes</th>\n",
              "      <th>sr</th>\n",
              "      <th>pos</th>\n",
              "      <th>dismissal</th>\n",
              "      <th>innings</th>\n",
              "      <th>opp</th>\n",
              "      <th>ground</th>\n",
              "      <th>start_date</th>\n",
              "      <th>odi</th>\n",
              "    </tr>\n",
              "  </thead>\n",
              "  <tbody>\n",
              "    <tr>\n",
              "      <th>0</th>\n",
              "      <td>200*</td>\n",
              "      <td>226</td>\n",
              "      <td>147</td>\n",
              "      <td>25</td>\n",
              "      <td>3</td>\n",
              "      <td>136.05</td>\n",
              "      <td>2</td>\n",
              "      <td>not out</td>\n",
              "      <td>1</td>\n",
              "      <td>v South Africa</td>\n",
              "      <td>Gwalior</td>\n",
              "      <td>24 Feb 2010</td>\n",
              "      <td>ODI # 2962</td>\n",
              "    </tr>\n",
              "    <tr>\n",
              "      <th>1</th>\n",
              "      <td>186*</td>\n",
              "      <td>221</td>\n",
              "      <td>150</td>\n",
              "      <td>20</td>\n",
              "      <td>3</td>\n",
              "      <td>124</td>\n",
              "      <td>2</td>\n",
              "      <td>not out</td>\n",
              "      <td>1</td>\n",
              "      <td>v New Zealand</td>\n",
              "      <td>Hyderabad (Deccan)</td>\n",
              "      <td>8 Nov 1999</td>\n",
              "      <td>ODI # 1523</td>\n",
              "    </tr>\n",
              "    <tr>\n",
              "      <th>2</th>\n",
              "      <td>175</td>\n",
              "      <td>210</td>\n",
              "      <td>141</td>\n",
              "      <td>19</td>\n",
              "      <td>4</td>\n",
              "      <td>124.11</td>\n",
              "      <td>2</td>\n",
              "      <td>caught</td>\n",
              "      <td>2</td>\n",
              "      <td>v Australia</td>\n",
              "      <td>Hyderabad (Deccan)</td>\n",
              "      <td>5 Nov 2009</td>\n",
              "      <td>ODI # 2923</td>\n",
              "    </tr>\n",
              "    <tr>\n",
              "      <th>3</th>\n",
              "      <td>163*</td>\n",
              "      <td>206</td>\n",
              "      <td>133</td>\n",
              "      <td>16</td>\n",
              "      <td>5</td>\n",
              "      <td>122.55</td>\n",
              "      <td>2</td>\n",
              "      <td>retired notout</td>\n",
              "      <td>1</td>\n",
              "      <td>v New Zealand</td>\n",
              "      <td>Christchurch</td>\n",
              "      <td>8 Mar 2009</td>\n",
              "      <td>ODI # 2823</td>\n",
              "    </tr>\n",
              "    <tr>\n",
              "      <th>4</th>\n",
              "      <td>152</td>\n",
              "      <td>193</td>\n",
              "      <td>151</td>\n",
              "      <td>18</td>\n",
              "      <td>0</td>\n",
              "      <td>100.66</td>\n",
              "      <td>2</td>\n",
              "      <td>bowled</td>\n",
              "      <td>1</td>\n",
              "      <td>v Namibia</td>\n",
              "      <td>Pietermaritzburg</td>\n",
              "      <td>23 Feb 2003</td>\n",
              "      <td>ODI # 1964</td>\n",
              "    </tr>\n",
              "  </tbody>\n",
              "</table>\n",
              "</div>"
            ],
            "text/plain": [
              "  score mins balls_faced fours sixes      sr pos       dismissal innings  \\\n",
              "0  200*  226         147    25     3  136.05   2         not out       1   \n",
              "1  186*  221         150    20     3     124   2         not out       1   \n",
              "2   175  210         141    19     4  124.11   2          caught       2   \n",
              "3  163*  206         133    16     5  122.55   2  retired notout       1   \n",
              "4   152  193         151    18     0  100.66   2          bowled       1   \n",
              "\n",
              "              opp              ground   start_date         odi  \n",
              "0  v South Africa             Gwalior  24 Feb 2010  ODI # 2962  \n",
              "1   v New Zealand  Hyderabad (Deccan)   8 Nov 1999  ODI # 1523  \n",
              "2     v Australia  Hyderabad (Deccan)   5 Nov 2009  ODI # 2923  \n",
              "3   v New Zealand        Christchurch   8 Mar 2009  ODI # 2823  \n",
              "4       v Namibia    Pietermaritzburg  23 Feb 2003  ODI # 1964  "
            ]
          },
          "metadata": {
            "tags": []
          },
          "execution_count": 236
        }
      ]
    },
    {
      "metadata": {
        "id": "lro8qWnYgswG",
        "colab_type": "code",
        "colab": {
          "base_uri": "https://localhost:8080/",
          "height": 452
        },
        "outputId": "090058f3-6cf8-4bb7-c642-92c858d696e4"
      },
      "cell_type": "code",
      "source": [
        "# Data was sorted by runs before loading in df, last few rows are where he didn't bat, removing these.\n",
        "\n",
        "d.tail(13)"
      ],
      "execution_count": 237,
      "outputs": [
        {
          "output_type": "execute_result",
          "data": {
            "text/html": [
              "<div>\n",
              "<style scoped>\n",
              "    .dataframe tbody tr th:only-of-type {\n",
              "        vertical-align: middle;\n",
              "    }\n",
              "\n",
              "    .dataframe tbody tr th {\n",
              "        vertical-align: top;\n",
              "    }\n",
              "\n",
              "    .dataframe thead th {\n",
              "        text-align: right;\n",
              "    }\n",
              "</style>\n",
              "<table border=\"1\" class=\"dataframe\">\n",
              "  <thead>\n",
              "    <tr style=\"text-align: right;\">\n",
              "      <th></th>\n",
              "      <th>score</th>\n",
              "      <th>mins</th>\n",
              "      <th>balls_faced</th>\n",
              "      <th>fours</th>\n",
              "      <th>sixes</th>\n",
              "      <th>sr</th>\n",
              "      <th>pos</th>\n",
              "      <th>dismissal</th>\n",
              "      <th>innings</th>\n",
              "      <th>opp</th>\n",
              "      <th>ground</th>\n",
              "      <th>start_date</th>\n",
              "      <th>odi</th>\n",
              "    </tr>\n",
              "  </thead>\n",
              "  <tbody>\n",
              "    <tr>\n",
              "      <th>450</th>\n",
              "      <td>0</td>\n",
              "      <td>9</td>\n",
              "      <td>6</td>\n",
              "      <td>0</td>\n",
              "      <td>0</td>\n",
              "      <td>0</td>\n",
              "      <td>2</td>\n",
              "      <td>lbw</td>\n",
              "      <td>2</td>\n",
              "      <td>v Australia</td>\n",
              "      <td>Bengaluru</td>\n",
              "      <td>29 Sep 2007</td>\n",
              "      <td>ODI # 2621</td>\n",
              "    </tr>\n",
              "    <tr>\n",
              "      <th>451</th>\n",
              "      <td>0</td>\n",
              "      <td>6</td>\n",
              "      <td>2</td>\n",
              "      <td>0</td>\n",
              "      <td>0</td>\n",
              "      <td>0</td>\n",
              "      <td>2</td>\n",
              "      <td>bowled</td>\n",
              "      <td>2</td>\n",
              "      <td>v Sri Lanka</td>\n",
              "      <td>Adelaide</td>\n",
              "      <td>19 Feb 2008</td>\n",
              "      <td>ODI # 2681</td>\n",
              "    </tr>\n",
              "    <tr>\n",
              "      <th>452</th>\n",
              "      <td>DNB</td>\n",
              "      <td>-</td>\n",
              "      <td>-</td>\n",
              "      <td>-</td>\n",
              "      <td>-</td>\n",
              "      <td>-</td>\n",
              "      <td>-</td>\n",
              "      <td>-</td>\n",
              "      <td>2</td>\n",
              "      <td>v Bangladesh</td>\n",
              "      <td>Chandigarh</td>\n",
              "      <td>25 Dec 1990</td>\n",
              "      <td>ODI # 657</td>\n",
              "    </tr>\n",
              "    <tr>\n",
              "      <th>453</th>\n",
              "      <td>DNB</td>\n",
              "      <td>-</td>\n",
              "      <td>-</td>\n",
              "      <td>-</td>\n",
              "      <td>-</td>\n",
              "      <td>-</td>\n",
              "      <td>-</td>\n",
              "      <td>-</td>\n",
              "      <td>1</td>\n",
              "      <td>v Sri Lanka</td>\n",
              "      <td>Mackay</td>\n",
              "      <td>28 Feb 1992</td>\n",
              "      <td>ODI # 722</td>\n",
              "    </tr>\n",
              "    <tr>\n",
              "      <th>454</th>\n",
              "      <td>DNB</td>\n",
              "      <td>-</td>\n",
              "      <td>-</td>\n",
              "      <td>-</td>\n",
              "      <td>-</td>\n",
              "      <td>-</td>\n",
              "      <td>-</td>\n",
              "      <td>-</td>\n",
              "      <td>2</td>\n",
              "      <td>v Zimbabwe</td>\n",
              "      <td>Pune</td>\n",
              "      <td>25 Mar 1993</td>\n",
              "      <td>ODI # 823</td>\n",
              "    </tr>\n",
              "    <tr>\n",
              "      <th>455</th>\n",
              "      <td>TDNB</td>\n",
              "      <td>-</td>\n",
              "      <td>-</td>\n",
              "      <td>-</td>\n",
              "      <td>-</td>\n",
              "      <td>-</td>\n",
              "      <td>-</td>\n",
              "      <td>-</td>\n",
              "      <td>-</td>\n",
              "      <td>v Pakistan</td>\n",
              "      <td>Colombo (SSC)</td>\n",
              "      <td>20 Jul 1997</td>\n",
              "      <td>ODI # 1219</td>\n",
              "    </tr>\n",
              "    <tr>\n",
              "      <th>456</th>\n",
              "      <td>TDNB</td>\n",
              "      <td>-</td>\n",
              "      <td>-</td>\n",
              "      <td>-</td>\n",
              "      <td>-</td>\n",
              "      <td>-</td>\n",
              "      <td>-</td>\n",
              "      <td>-</td>\n",
              "      <td>-</td>\n",
              "      <td>v Pakistan</td>\n",
              "      <td>Toronto</td>\n",
              "      <td>17 Sep 1997</td>\n",
              "      <td>ODI # 1229</td>\n",
              "    </tr>\n",
              "    <tr>\n",
              "      <th>457</th>\n",
              "      <td>TDNB</td>\n",
              "      <td>-</td>\n",
              "      <td>-</td>\n",
              "      <td>-</td>\n",
              "      <td>-</td>\n",
              "      <td>-</td>\n",
              "      <td>-</td>\n",
              "      <td>-</td>\n",
              "      <td>-</td>\n",
              "      <td>v Sri Lanka</td>\n",
              "      <td>Indore</td>\n",
              "      <td>25 Dec 1997</td>\n",
              "      <td>ODI # 1268</td>\n",
              "    </tr>\n",
              "    <tr>\n",
              "      <th>458</th>\n",
              "      <td>TDNB</td>\n",
              "      <td>-</td>\n",
              "      <td>-</td>\n",
              "      <td>-</td>\n",
              "      <td>-</td>\n",
              "      <td>-</td>\n",
              "      <td>-</td>\n",
              "      <td>-</td>\n",
              "      <td>-</td>\n",
              "      <td>v New Zealand</td>\n",
              "      <td>Colombo (SSC)</td>\n",
              "      <td>3 Jul 1998</td>\n",
              "      <td>ODI # 1342</td>\n",
              "    </tr>\n",
              "    <tr>\n",
              "      <th>459</th>\n",
              "      <td>DNB</td>\n",
              "      <td>-</td>\n",
              "      <td>-</td>\n",
              "      <td>-</td>\n",
              "      <td>-</td>\n",
              "      <td>-</td>\n",
              "      <td>-</td>\n",
              "      <td>-</td>\n",
              "      <td>2</td>\n",
              "      <td>v Kenya</td>\n",
              "      <td>Bloemfontein</td>\n",
              "      <td>12 Oct 2001</td>\n",
              "      <td>ODI # 1758</td>\n",
              "    </tr>\n",
              "    <tr>\n",
              "      <th>460</th>\n",
              "      <td>DNB</td>\n",
              "      <td>-</td>\n",
              "      <td>-</td>\n",
              "      <td>-</td>\n",
              "      <td>-</td>\n",
              "      <td>-</td>\n",
              "      <td>-</td>\n",
              "      <td>-</td>\n",
              "      <td>2</td>\n",
              "      <td>v Sri Lanka</td>\n",
              "      <td>Colombo (RPS)</td>\n",
              "      <td>29 Sep 2002</td>\n",
              "      <td>ODI # 1888</td>\n",
              "    </tr>\n",
              "    <tr>\n",
              "      <th>461</th>\n",
              "      <td>TDNB</td>\n",
              "      <td>-</td>\n",
              "      <td>-</td>\n",
              "      <td>-</td>\n",
              "      <td>-</td>\n",
              "      <td>-</td>\n",
              "      <td>-</td>\n",
              "      <td>-</td>\n",
              "      <td>-</td>\n",
              "      <td>v Sri Lanka</td>\n",
              "      <td>Kolkata</td>\n",
              "      <td>8 Feb 2007</td>\n",
              "      <td>ODI # 2514</td>\n",
              "    </tr>\n",
              "    <tr>\n",
              "      <th>462</th>\n",
              "      <td>TDNB</td>\n",
              "      <td>-</td>\n",
              "      <td>-</td>\n",
              "      <td>-</td>\n",
              "      <td>-</td>\n",
              "      <td>-</td>\n",
              "      <td>-</td>\n",
              "      <td>-</td>\n",
              "      <td>-</td>\n",
              "      <td>v Australia</td>\n",
              "      <td>Centurion</td>\n",
              "      <td>28 Sep 2009</td>\n",
              "      <td>ODI # 2901</td>\n",
              "    </tr>\n",
              "  </tbody>\n",
              "</table>\n",
              "</div>"
            ],
            "text/plain": [
              "    score mins balls_faced fours sixes sr pos dismissal innings  \\\n",
              "450     0    9           6     0     0  0   2       lbw       2   \n",
              "451     0    6           2     0     0  0   2    bowled       2   \n",
              "452   DNB    -           -     -     -  -   -         -       2   \n",
              "453   DNB    -           -     -     -  -   -         -       1   \n",
              "454   DNB    -           -     -     -  -   -         -       2   \n",
              "455  TDNB    -           -     -     -  -   -         -       -   \n",
              "456  TDNB    -           -     -     -  -   -         -       -   \n",
              "457  TDNB    -           -     -     -  -   -         -       -   \n",
              "458  TDNB    -           -     -     -  -   -         -       -   \n",
              "459   DNB    -           -     -     -  -   -         -       2   \n",
              "460   DNB    -           -     -     -  -   -         -       2   \n",
              "461  TDNB    -           -     -     -  -   -         -       -   \n",
              "462  TDNB    -           -     -     -  -   -         -       -   \n",
              "\n",
              "               opp         ground   start_date         odi  \n",
              "450    v Australia      Bengaluru  29 Sep 2007  ODI # 2621  \n",
              "451    v Sri Lanka       Adelaide  19 Feb 2008  ODI # 2681  \n",
              "452   v Bangladesh     Chandigarh  25 Dec 1990   ODI # 657  \n",
              "453    v Sri Lanka         Mackay  28 Feb 1992   ODI # 722  \n",
              "454     v Zimbabwe           Pune  25 Mar 1993   ODI # 823  \n",
              "455     v Pakistan  Colombo (SSC)  20 Jul 1997  ODI # 1219  \n",
              "456     v Pakistan        Toronto  17 Sep 1997  ODI # 1229  \n",
              "457    v Sri Lanka         Indore  25 Dec 1997  ODI # 1268  \n",
              "458  v New Zealand  Colombo (SSC)   3 Jul 1998  ODI # 1342  \n",
              "459        v Kenya   Bloemfontein  12 Oct 2001  ODI # 1758  \n",
              "460    v Sri Lanka  Colombo (RPS)  29 Sep 2002  ODI # 1888  \n",
              "461    v Sri Lanka        Kolkata   8 Feb 2007  ODI # 2514  \n",
              "462    v Australia      Centurion  28 Sep 2009  ODI # 2901  "
            ]
          },
          "metadata": {
            "tags": []
          },
          "execution_count": 237
        }
      ]
    },
    {
      "metadata": {
        "id": "JUpgXqBRhAN3",
        "colab_type": "code",
        "colab": {}
      },
      "cell_type": "code",
      "source": [
        "# Removing games where he didn't bat\n",
        "\n",
        "d = d[(d['score'] <> \"DNB\") & (d['score'] <> \"TDNB\") ]"
      ],
      "execution_count": 0,
      "outputs": []
    },
    {
      "metadata": {
        "id": "u9eR29wIXp7m",
        "colab_type": "code",
        "colab": {}
      },
      "cell_type": "code",
      "source": [
        "# Removing * from the scores as we have out/not out info in other columns.\n",
        "\n",
        "d['score'] = d.score.apply(lambda x: x.replace(\"*\",\"\"))"
      ],
      "execution_count": 0,
      "outputs": []
    },
    {
      "metadata": {
        "id": "yIxadG5mXu6q",
        "colab_type": "code",
        "colab": {}
      },
      "cell_type": "code",
      "source": [
        "# Removing v from opp column to leave country only.\n",
        "\n",
        "d['opp'] = d.opp.apply(lambda x: x.partition(\" \")[-1])"
      ],
      "execution_count": 0,
      "outputs": []
    },
    {
      "metadata": {
        "id": "igQKMBD5Y65k",
        "colab_type": "code",
        "colab": {}
      },
      "cell_type": "code",
      "source": [
        "# Creating a new column to get out_notout.\n",
        "\n",
        "d['out_notout'] = np.where(d['dismissal'] != \"not out\",\"out\",\"not out\")"
      ],
      "execution_count": 0,
      "outputs": []
    },
    {
      "metadata": {
        "id": "rXTR9ZUwfEWc",
        "colab_type": "code",
        "colab": {
          "base_uri": "https://localhost:8080/",
          "height": 340
        },
        "outputId": "45ad0af0-aa56-4736-925b-f621199dfc04"
      },
      "cell_type": "code",
      "source": [
        "# Loook at column types before arithmetic operations\n",
        "\n",
        "d.info()"
      ],
      "execution_count": 242,
      "outputs": [
        {
          "output_type": "stream",
          "text": [
            "<class 'pandas.core.frame.DataFrame'>\n",
            "Int64Index: 452 entries, 0 to 451\n",
            "Data columns (total 14 columns):\n",
            "score          452 non-null object\n",
            "mins           452 non-null object\n",
            "balls_faced    452 non-null object\n",
            "fours          452 non-null object\n",
            "sixes          452 non-null object\n",
            "sr             452 non-null object\n",
            "pos            452 non-null object\n",
            "dismissal      452 non-null object\n",
            "innings        452 non-null object\n",
            "opp            452 non-null object\n",
            "ground         452 non-null object\n",
            "start_date     452 non-null object\n",
            "odi            452 non-null object\n",
            "out_notout     452 non-null object\n",
            "dtypes: object(14)\n",
            "memory usage: 53.0+ KB\n"
          ],
          "name": "stdout"
        }
      ]
    },
    {
      "metadata": {
        "id": "CL2k_0mdfa7D",
        "colab_type": "code",
        "colab": {}
      },
      "cell_type": "code",
      "source": [
        "# Need to convert numerical columns to int from obj.\n",
        "\n",
        "non_num_cols = ['dismissal','opp','ground','start_date','odi','out_notout','innings']"
      ],
      "execution_count": 0,
      "outputs": []
    },
    {
      "metadata": {
        "id": "9qdzLmIYful_",
        "colab_type": "code",
        "colab": {}
      },
      "cell_type": "code",
      "source": [
        "# columns which are not in list above being transformed to numeric.\n",
        "\n",
        "d[[x for x in d.columns if x not in non_num_cols]] = d[[x for x in d.columns if x not in non_num_cols]].apply(pd.to_numeric,errors = 'coerce')\n"
      ],
      "execution_count": 0,
      "outputs": []
    },
    {
      "metadata": {
        "id": "JY3ACL03d7Lp",
        "colab_type": "code",
        "colab": {
          "base_uri": "https://localhost:8080/",
          "height": 340
        },
        "outputId": "86b6854b-8666-46a3-e251-9012f3960ce2"
      },
      "cell_type": "code",
      "source": [
        "# receheck column types.\n",
        "\n",
        "d.info()"
      ],
      "execution_count": 245,
      "outputs": [
        {
          "output_type": "stream",
          "text": [
            "<class 'pandas.core.frame.DataFrame'>\n",
            "Int64Index: 452 entries, 0 to 451\n",
            "Data columns (total 14 columns):\n",
            "score          452 non-null int64\n",
            "mins           398 non-null float64\n",
            "balls_faced    452 non-null int64\n",
            "fours          452 non-null int64\n",
            "sixes          452 non-null int64\n",
            "sr             452 non-null float64\n",
            "pos            452 non-null int64\n",
            "dismissal      452 non-null object\n",
            "innings        452 non-null object\n",
            "opp            452 non-null object\n",
            "ground         452 non-null object\n",
            "start_date     452 non-null object\n",
            "odi            452 non-null object\n",
            "out_notout     452 non-null object\n",
            "dtypes: float64(2), int64(5), object(7)\n",
            "memory usage: 53.0+ KB\n"
          ],
          "name": "stdout"
        }
      ]
    },
    {
      "metadata": {
        "id": "VAq9q_9yZi3I",
        "colab_type": "code",
        "colab": {
          "base_uri": "https://localhost:8080/",
          "height": 85
        },
        "outputId": "3e382317-ebcb-4288-d5ee-30452068ec89"
      },
      "cell_type": "code",
      "source": [
        "# How many not out innings?\n",
        "\n",
        "d.groupby('out_notout')['score'].count()"
      ],
      "execution_count": 246,
      "outputs": [
        {
          "output_type": "execute_result",
          "data": {
            "text/plain": [
              "out_notout\n",
              "not out     40\n",
              "out        412\n",
              "Name: score, dtype: int64"
            ]
          },
          "metadata": {
            "tags": []
          },
          "execution_count": 246
        }
      ]
    },
    {
      "metadata": {
        "id": "GPX6KRFdaTJm",
        "colab_type": "code",
        "colab": {
          "base_uri": "https://localhost:8080/",
          "height": 296
        },
        "outputId": "31f4e93b-215e-4682-be86-2427afabca29"
      },
      "cell_type": "code",
      "source": [
        "sns.countplot(d.out_notout)"
      ],
      "execution_count": 247,
      "outputs": [
        {
          "output_type": "execute_result",
          "data": {
            "text/plain": [
              "<matplotlib.axes._subplots.AxesSubplot at 0x7fe7e41af350>"
            ]
          },
          "metadata": {
            "tags": []
          },
          "execution_count": 247
        },
        {
          "output_type": "display_data",
          "data": {
            "image/png": "[encoded data removed]",
            "text/plain": [
              "<matplotlib.figure.Figure at 0x7fe7e7bd9090>"
            ]
          },
          "metadata": {
            "tags": []
          }
        }
      ]
    },
    {
      "metadata": {
        "id": "ZZS1ynt6d8BS",
        "colab_type": "code",
        "colab": {}
      },
      "cell_type": "code",
      "source": [
        ""
      ],
      "execution_count": 0,
      "outputs": []
    },
    {
      "metadata": {
        "id": "qSzUotEYaa6v",
        "colab_type": "code",
        "colab": {
          "base_uri": "https://localhost:8080/",
          "height": 494
        },
        "outputId": "8ece5770-1740-4080-b6a9-996bd4c65746"
      },
      "cell_type": "code",
      "source": [
        "# Games against oppositions\n",
        "\n",
        "d['opp'].value_counts().plot(kind=\"bar\",figsize = (20,7))"
      ],
      "execution_count": 248,
      "outputs": [
        {
          "output_type": "execute_result",
          "data": {
            "text/plain": [
              "<matplotlib.axes._subplots.AxesSubplot at 0x7fe7f54f0990>"
            ]
          },
          "metadata": {
            "tags": []
          },
          "execution_count": 248
        },
        {
          "output_type": "display_data",
          "data": {
            "image/png": "[encoded data removed]",
            "text/plain": [
              "<matplotlib.figure.Figure at 0x7fe7f783c790>"
            ]
          },
          "metadata": {
            "tags": []
          }
        }
      ]
    },
    {
      "metadata": {
        "id": "nQDrgHz9dYrb",
        "colab_type": "code",
        "colab": {
          "base_uri": "https://localhost:8080/",
          "height": 80
        },
        "outputId": "99af5bdc-b2c7-4029-8bf2-4453b82240fc"
      },
      "cell_type": "code",
      "source": [
        "# Innings with most Sixes.\n",
        "\n",
        "d[d['sixes'] == d.sixes.max()]"
      ],
      "execution_count": 249,
      "outputs": [
        {
          "output_type": "execute_result",
          "data": {
            "text/html": [
              "<div>\n",
              "<style scoped>\n",
              "    .dataframe tbody tr th:only-of-type {\n",
              "        vertical-align: middle;\n",
              "    }\n",
              "\n",
              "    .dataframe tbody tr th {\n",
              "        vertical-align: top;\n",
              "    }\n",
              "\n",
              "    .dataframe thead th {\n",
              "        text-align: right;\n",
              "    }\n",
              "</style>\n",
              "<table border=\"1\" class=\"dataframe\">\n",
              "  <thead>\n",
              "    <tr style=\"text-align: right;\">\n",
              "      <th></th>\n",
              "      <th>score</th>\n",
              "      <th>mins</th>\n",
              "      <th>balls_faced</th>\n",
              "      <th>fours</th>\n",
              "      <th>sixes</th>\n",
              "      <th>sr</th>\n",
              "      <th>pos</th>\n",
              "      <th>dismissal</th>\n",
              "      <th>innings</th>\n",
              "      <th>opp</th>\n",
              "      <th>ground</th>\n",
              "      <th>start_date</th>\n",
              "      <th>odi</th>\n",
              "      <th>out_notout</th>\n",
              "    </tr>\n",
              "  </thead>\n",
              "  <tbody>\n",
              "    <tr>\n",
              "      <th>46</th>\n",
              "      <td>100</td>\n",
              "      <td>132.0</td>\n",
              "      <td>89</td>\n",
              "      <td>5</td>\n",
              "      <td>7</td>\n",
              "      <td>112.35</td>\n",
              "      <td>2</td>\n",
              "      <td>caught</td>\n",
              "      <td>2</td>\n",
              "      <td>Australia</td>\n",
              "      <td>Kanpur</td>\n",
              "      <td>7 Apr 1998</td>\n",
              "      <td>ODI # 1308</td>\n",
              "      <td>out</td>\n",
              "    </tr>\n",
              "  </tbody>\n",
              "</table>\n",
              "</div>"
            ],
            "text/plain": [
              "    score   mins  balls_faced  fours  sixes      sr  pos dismissal innings  \\\n",
              "46    100  132.0           89      5      7  112.35    2    caught       2   \n",
              "\n",
              "          opp  ground  start_date         odi out_notout  \n",
              "46  Australia  Kanpur  7 Apr 1998  ODI # 1308        out  "
            ]
          },
          "metadata": {
            "tags": []
          },
          "execution_count": 249
        }
      ]
    },
    {
      "metadata": {
        "id": "DOiQYDa6eMl-",
        "colab_type": "code",
        "colab": {
          "base_uri": "https://localhost:8080/",
          "height": 80
        },
        "outputId": "4749559d-81fb-4a26-ed04-5bca5f4df650"
      },
      "cell_type": "code",
      "source": [
        "# Innings with most Fours.\n",
        "\n",
        "d[d['fours'] == d.fours.max()]"
      ],
      "execution_count": 250,
      "outputs": [
        {
          "output_type": "execute_result",
          "data": {
            "text/html": [
              "<div>\n",
              "<style scoped>\n",
              "    .dataframe tbody tr th:only-of-type {\n",
              "        vertical-align: middle;\n",
              "    }\n",
              "\n",
              "    .dataframe tbody tr th {\n",
              "        vertical-align: top;\n",
              "    }\n",
              "\n",
              "    .dataframe thead th {\n",
              "        text-align: right;\n",
              "    }\n",
              "</style>\n",
              "<table border=\"1\" class=\"dataframe\">\n",
              "  <thead>\n",
              "    <tr style=\"text-align: right;\">\n",
              "      <th></th>\n",
              "      <th>score</th>\n",
              "      <th>mins</th>\n",
              "      <th>balls_faced</th>\n",
              "      <th>fours</th>\n",
              "      <th>sixes</th>\n",
              "      <th>sr</th>\n",
              "      <th>pos</th>\n",
              "      <th>dismissal</th>\n",
              "      <th>innings</th>\n",
              "      <th>opp</th>\n",
              "      <th>ground</th>\n",
              "      <th>start_date</th>\n",
              "      <th>odi</th>\n",
              "      <th>out_notout</th>\n",
              "    </tr>\n",
              "  </thead>\n",
              "  <tbody>\n",
              "    <tr>\n",
              "      <th>0</th>\n",
              "      <td>200</td>\n",
              "      <td>226.0</td>\n",
              "      <td>147</td>\n",
              "      <td>25</td>\n",
              "      <td>3</td>\n",
              "      <td>136.05</td>\n",
              "      <td>2</td>\n",
              "      <td>not out</td>\n",
              "      <td>1</td>\n",
              "      <td>South Africa</td>\n",
              "      <td>Gwalior</td>\n",
              "      <td>24 Feb 2010</td>\n",
              "      <td>ODI # 2962</td>\n",
              "      <td>not out</td>\n",
              "    </tr>\n",
              "  </tbody>\n",
              "</table>\n",
              "</div>"
            ],
            "text/plain": [
              "   score   mins  balls_faced  fours  sixes      sr  pos dismissal innings  \\\n",
              "0    200  226.0          147     25      3  136.05    2   not out       1   \n",
              "\n",
              "            opp   ground   start_date         odi out_notout  \n",
              "0  South Africa  Gwalior  24 Feb 2010  ODI # 2962    not out  "
            ]
          },
          "metadata": {
            "tags": []
          },
          "execution_count": 250
        }
      ]
    },
    {
      "metadata": {
        "id": "hdzB-syJe217",
        "colab_type": "code",
        "colab": {
          "base_uri": "https://localhost:8080/",
          "height": 508
        },
        "outputId": "d5921dd5-519c-4080-d3e5-9475a4598cd9"
      },
      "cell_type": "code",
      "source": [
        "# Most runs against opp\n",
        "\n",
        "d.groupby('opp')['score'].sum().sort_values(ascending=False).plot(kind=\"bar\",figsize = (20,7))"
      ],
      "execution_count": 251,
      "outputs": [
        {
          "output_type": "execute_result",
          "data": {
            "text/plain": [
              "<matplotlib.axes._subplots.AxesSubplot at 0x7fe7ff23c5d0>"
            ]
          },
          "metadata": {
            "tags": []
          },
          "execution_count": 251
        },
        {
          "output_type": "display_data",
          "data": {
            "image/png": "[encoded data removed]",
            "text/plain": [
              "<matplotlib.figure.Figure at 0x7fe7feaa6d90>"
            ]
          },
          "metadata": {
            "tags": []
          }
        }
      ]
    },
    {
      "metadata": {
        "id": "CQM9uu5pIjJQ",
        "colab_type": "code",
        "colab": {
          "base_uri": "https://localhost:8080/",
          "height": 541
        },
        "outputId": "4eb405c4-3051-43df-c0cf-5b62308de05e"
      },
      "cell_type": "code",
      "source": [
        "# Most runs at a certain ground - Top 10\n",
        "\n",
        "d.groupby('ground')['score'].sum().sort_values(ascending=False)[:10].plot(kind=\"bar\",figsize = (20,7))"
      ],
      "execution_count": 252,
      "outputs": [
        {
          "output_type": "execute_result",
          "data": {
            "text/plain": [
              "<matplotlib.axes._subplots.AxesSubplot at 0x7fe7db821190>"
            ]
          },
          "metadata": {
            "tags": []
          },
          "execution_count": 252
        },
        {
          "output_type": "display_data",
          "data": {
            "image/png": "[encoded data removed]",
            "text/plain": [
              "<matplotlib.figure.Figure at 0x7fe7ff57f250>"
            ]
          },
          "metadata": {
            "tags": []
          }
        }
      ]
    },
    {
      "metadata": {
        "id": "VnT7pgE4Jpt0",
        "colab_type": "code",
        "colab": {
          "base_uri": "https://localhost:8080/",
          "height": 340
        },
        "outputId": "90525640-2995-43e3-ddcd-7549e211b6eb"
      },
      "cell_type": "code",
      "source": [
        "d['ground'].unique()"
      ],
      "execution_count": 253,
      "outputs": [
        {
          "output_type": "execute_result",
          "data": {
            "text/plain": [
              "array(['Gwalior', 'Hyderabad (Deccan)', 'Christchurch',\n",
              "       'Pietermaritzburg', 'Jodhpur', 'Paarl', 'Sharjah', 'Kuala Lumpur',\n",
              "       'Dhaka', 'Rawalpindi', 'Bristol', 'Indore', 'Colombo (RPS)',\n",
              "       'Delhi', 'Cuttack', 'Bulawayo', 'Ahmedabad', 'Harare', 'Vadodara',\n",
              "       'Colombo (SSC)', 'Bengaluru', 'Sydney', 'Mumbai', 'Nagpur',\n",
              "       'Chester-le-Street', 'Jaipur', 'Benoni', 'Johannesburg', 'Kolkata',\n",
              "       'Singapore', 'Kanpur', 'Peshawar', 'Belfast', 'Mohali',\n",
              "       'Centurion', 'Lahore', 'The Oval', 'Hobart', 'Brisbane', 'Toronto',\n",
              "       'Dunedin', 'Durban', 'Guwahati', 'Auckland', 'Hamilton',\n",
              "       'Chandigarh', 'Leeds', 'Nairobi (Gym)', 'Rajkot', 'Chennai',\n",
              "       'Port of Spain', 'Wellington', 'Melbourne', 'Visakhapatnam',\n",
              "       'Manchester', 'Pune', 'Jalandhar', 'Adelaide', 'Perth', 'Amritsar',\n",
              "       'East London', 'Bridgetown', 'Bloemfontein', 'Canberra',\n",
              "       'Nottingham', 'Margao', 'Jamshedpur', \"Lord's\", 'Hove', 'Karachi',\n",
              "       'Kochi', 'Moratuwa', 'Napier', 'Birmingham', 'Chittagong',\n",
              "       'Dambulla', 'Southampton', 'Cape Town', 'Galle', 'Faridabad',\n",
              "       'Port Elizabeth', 'Kingstown', 'Hyderabad (Sind)', 'Taunton',\n",
              "       'New Delhi', 'Mumbai (BS)', 'Gujranwala', 'Taupo', 'Multan'],\n",
              "      dtype=object)"
            ]
          },
          "metadata": {
            "tags": []
          },
          "execution_count": 253
        }
      ]
    },
    {
      "metadata": {
        "id": "80rRNP1lJ_ZK",
        "colab_type": "code",
        "colab": {}
      },
      "cell_type": "code",
      "source": [
        "home_grnd = ['Gwalior', 'Hyderabad (Deccan)','Jodhpur', 'Indore','Delhi', 'Cuttack','Ahmedabad','Vadodara',\n",
        "       'Bengaluru', 'Mumbai', 'Nagpur','Jaipur','Kolkata','Kanpur',  'Mohali','Guwahati',\n",
        "       'Chandigarh', 'Rajkot', 'Chennai','Visakhapatnam','Pune', 'Jalandhar','Amritsar',\n",
        "       'Margao', 'Jamshedpur', 'Karachi','Kochi',  'Hyderabad (Sind)', 'New Delhi', 'Mumbai (BS)']"
      ],
      "execution_count": 0,
      "outputs": []
    },
    {
      "metadata": {
        "id": "Y50dg4iCLBiI",
        "colab_type": "code",
        "colab": {}
      },
      "cell_type": "code",
      "source": [
        "def home_away(x):\n",
        "  if x in home_grnd:\n",
        "    return \"Home\"\n",
        "  else:\n",
        "    return \"Away\""
      ],
      "execution_count": 0,
      "outputs": []
    },
    {
      "metadata": {
        "id": "Im21WiB1LQ3x",
        "colab_type": "code",
        "colab": {}
      },
      "cell_type": "code",
      "source": [
        "d['home_away'] = d['ground'].apply(home_away)"
      ],
      "execution_count": 0,
      "outputs": []
    },
    {
      "metadata": {
        "id": "bASigJYBLtxp",
        "colab_type": "code",
        "colab": {
          "base_uri": "https://localhost:8080/",
          "height": 481
        },
        "outputId": "150fa56b-5c63-4e06-9bde-7a1f7eebf639"
      },
      "cell_type": "code",
      "source": [
        "# Runs scored home vs away\n",
        "\n",
        "d.groupby('home_away')['score'].sum().sort_values(ascending=False).plot(kind=\"bar\",figsize = (10,7))"
      ],
      "execution_count": 257,
      "outputs": [
        {
          "output_type": "execute_result",
          "data": {
            "text/plain": [
              "<matplotlib.axes._subplots.AxesSubplot at 0x7fe7ce2e87d0>"
            ]
          },
          "metadata": {
            "tags": []
          },
          "execution_count": 257
        },
        {
          "output_type": "display_data",
          "data": {
            "image/png": "[encoded data removed]",
            "text/plain": [
              "<matplotlib.figure.Figure at 0x7fe7fe4226d0>"
            ]
          },
          "metadata": {
            "tags": []
          }
        }
      ]
    },
    {
      "metadata": {
        "id": "gJi820RVMBE_",
        "colab_type": "code",
        "colab": {
          "base_uri": "https://localhost:8080/",
          "height": 476
        },
        "outputId": "e8d4767f-7d70-452a-c14d-d4f8a2c2619c"
      },
      "cell_type": "code",
      "source": [
        "# Matches played home vs away\n",
        "\n",
        "d.groupby('home_away')['score'].count().sort_values(ascending=False).plot(kind=\"bar\",figsize = (10,7))"
      ],
      "execution_count": 258,
      "outputs": [
        {
          "output_type": "execute_result",
          "data": {
            "text/plain": [
              "<matplotlib.axes._subplots.AxesSubplot at 0x7fe7f88eac90>"
            ]
          },
          "metadata": {
            "tags": []
          },
          "execution_count": 258
        },
        {
          "output_type": "display_data",
          "data": {
            "image/png": "[encoded data removed]",
            "text/plain": [
              "<matplotlib.figure.Figure at 0x7fe7f6623090>"
            ]
          },
          "metadata": {
            "tags": []
          }
        }
      ]
    },
    {
      "metadata": {
        "id": "5GYp_r5rMJoD",
        "colab_type": "code",
        "colab": {
          "base_uri": "https://localhost:8080/",
          "height": 142
        },
        "outputId": "73539e7f-ff23-45ef-e62c-57ac77a422b9"
      },
      "cell_type": "code",
      "source": [
        "# Away vs Home, games vs score\n",
        "# Sum = score, Count = games \n",
        "\n",
        "d.groupby('home_away')['score'].agg(['sum', 'count'])"
      ],
      "execution_count": 259,
      "outputs": [
        {
          "output_type": "execute_result",
          "data": {
            "text/html": [
              "<div>\n",
              "<style scoped>\n",
              "    .dataframe tbody tr th:only-of-type {\n",
              "        vertical-align: middle;\n",
              "    }\n",
              "\n",
              "    .dataframe tbody tr th {\n",
              "        vertical-align: top;\n",
              "    }\n",
              "\n",
              "    .dataframe thead th {\n",
              "        text-align: right;\n",
              "    }\n",
              "</style>\n",
              "<table border=\"1\" class=\"dataframe\">\n",
              "  <thead>\n",
              "    <tr style=\"text-align: right;\">\n",
              "      <th></th>\n",
              "      <th>sum</th>\n",
              "      <th>count</th>\n",
              "    </tr>\n",
              "    <tr>\n",
              "      <th>home_away</th>\n",
              "      <th></th>\n",
              "      <th></th>\n",
              "    </tr>\n",
              "  </thead>\n",
              "  <tbody>\n",
              "    <tr>\n",
              "      <th>Away</th>\n",
              "      <td>11414</td>\n",
              "      <td>292</td>\n",
              "    </tr>\n",
              "    <tr>\n",
              "      <th>Home</th>\n",
              "      <td>7012</td>\n",
              "      <td>160</td>\n",
              "    </tr>\n",
              "  </tbody>\n",
              "</table>\n",
              "</div>"
            ],
            "text/plain": [
              "             sum  count\n",
              "home_away              \n",
              "Away       11414    292\n",
              "Home        7012    160"
            ]
          },
          "metadata": {
            "tags": []
          },
          "execution_count": 259
        }
      ]
    },
    {
      "metadata": {
        "id": "PTV52YcONwHh",
        "colab_type": "code",
        "colab": {
          "base_uri": "https://localhost:8080/",
          "height": 545
        },
        "outputId": "4258953f-7c46-4589-eb5a-4933e1a78ada"
      },
      "cell_type": "code",
      "source": [
        "# Games vs score by opp\n",
        "# Sum = score, Count = games \n",
        "\n",
        "d.groupby('opp')['score'].agg(['sum', 'count']).sort_values(by = 'count', ascending = False)"
      ],
      "execution_count": 260,
      "outputs": [
        {
          "output_type": "execute_result",
          "data": {
            "text/html": [
              "<div>\n",
              "<style scoped>\n",
              "    .dataframe tbody tr th:only-of-type {\n",
              "        vertical-align: middle;\n",
              "    }\n",
              "\n",
              "    .dataframe tbody tr th {\n",
              "        vertical-align: top;\n",
              "    }\n",
              "\n",
              "    .dataframe thead th {\n",
              "        text-align: right;\n",
              "    }\n",
              "</style>\n",
              "<table border=\"1\" class=\"dataframe\">\n",
              "  <thead>\n",
              "    <tr style=\"text-align: right;\">\n",
              "      <th></th>\n",
              "      <th>sum</th>\n",
              "      <th>count</th>\n",
              "    </tr>\n",
              "    <tr>\n",
              "      <th>opp</th>\n",
              "      <th></th>\n",
              "      <th></th>\n",
              "    </tr>\n",
              "  </thead>\n",
              "  <tbody>\n",
              "    <tr>\n",
              "      <th>Sri Lanka</th>\n",
              "      <td>3113</td>\n",
              "      <td>80</td>\n",
              "    </tr>\n",
              "    <tr>\n",
              "      <th>Australia</th>\n",
              "      <td>3077</td>\n",
              "      <td>70</td>\n",
              "    </tr>\n",
              "    <tr>\n",
              "      <th>Pakistan</th>\n",
              "      <td>2526</td>\n",
              "      <td>67</td>\n",
              "    </tr>\n",
              "    <tr>\n",
              "      <th>South Africa</th>\n",
              "      <td>2001</td>\n",
              "      <td>57</td>\n",
              "    </tr>\n",
              "    <tr>\n",
              "      <th>New Zealand</th>\n",
              "      <td>1750</td>\n",
              "      <td>41</td>\n",
              "    </tr>\n",
              "    <tr>\n",
              "      <th>West Indies</th>\n",
              "      <td>1573</td>\n",
              "      <td>39</td>\n",
              "    </tr>\n",
              "    <tr>\n",
              "      <th>England</th>\n",
              "      <td>1455</td>\n",
              "      <td>37</td>\n",
              "    </tr>\n",
              "    <tr>\n",
              "      <th>Zimbabwe</th>\n",
              "      <td>1377</td>\n",
              "      <td>33</td>\n",
              "    </tr>\n",
              "    <tr>\n",
              "      <th>Bangladesh</th>\n",
              "      <td>496</td>\n",
              "      <td>11</td>\n",
              "    </tr>\n",
              "    <tr>\n",
              "      <th>Kenya</th>\n",
              "      <td>647</td>\n",
              "      <td>9</td>\n",
              "    </tr>\n",
              "    <tr>\n",
              "      <th>Ireland</th>\n",
              "      <td>42</td>\n",
              "      <td>2</td>\n",
              "    </tr>\n",
              "    <tr>\n",
              "      <th>Netherlands</th>\n",
              "      <td>79</td>\n",
              "      <td>2</td>\n",
              "    </tr>\n",
              "    <tr>\n",
              "      <th>U.A.E.</th>\n",
              "      <td>81</td>\n",
              "      <td>2</td>\n",
              "    </tr>\n",
              "    <tr>\n",
              "      <th>Bermuda</th>\n",
              "      <td>57</td>\n",
              "      <td>1</td>\n",
              "    </tr>\n",
              "    <tr>\n",
              "      <th>Namibia</th>\n",
              "      <td>152</td>\n",
              "      <td>1</td>\n",
              "    </tr>\n",
              "  </tbody>\n",
              "</table>\n",
              "</div>"
            ],
            "text/plain": [
              "               sum  count\n",
              "opp                      \n",
              "Sri Lanka     3113     80\n",
              "Australia     3077     70\n",
              "Pakistan      2526     67\n",
              "South Africa  2001     57\n",
              "New Zealand   1750     41\n",
              "West Indies   1573     39\n",
              "England       1455     37\n",
              "Zimbabwe      1377     33\n",
              "Bangladesh     496     11\n",
              "Kenya          647      9\n",
              "Ireland         42      2\n",
              "Netherlands     79      2\n",
              "U.A.E.          81      2\n",
              "Bermuda         57      1\n",
              "Namibia        152      1"
            ]
          },
          "metadata": {
            "tags": []
          },
          "execution_count": 260
        }
      ]
    },
    {
      "metadata": {
        "id": "WommOKuROe3C",
        "colab_type": "code",
        "colab": {
          "base_uri": "https://localhost:8080/",
          "height": 576
        },
        "outputId": "cc4d0d18-c1b2-447e-ffd1-0cf77c11f87e"
      },
      "cell_type": "code",
      "source": [
        "# Games vs score by opp and home_away\n",
        "# Sum = score, Count = games \n",
        "\n",
        "d.groupby(['opp','home_away'])['score'].agg(['sum', 'count']).sort_values(by = 'sum', ascending = False).unstack()"
      ],
      "execution_count": 261,
      "outputs": [
        {
          "output_type": "execute_result",
          "data": {
            "text/html": [
              "<div>\n",
              "<style scoped>\n",
              "    .dataframe tbody tr th:only-of-type {\n",
              "        vertical-align: middle;\n",
              "    }\n",
              "\n",
              "    .dataframe tbody tr th {\n",
              "        vertical-align: top;\n",
              "    }\n",
              "\n",
              "    .dataframe thead tr th {\n",
              "        text-align: left;\n",
              "    }\n",
              "\n",
              "    .dataframe thead tr:last-of-type th {\n",
              "        text-align: right;\n",
              "    }\n",
              "</style>\n",
              "<table border=\"1\" class=\"dataframe\">\n",
              "  <thead>\n",
              "    <tr>\n",
              "      <th></th>\n",
              "      <th colspan=\"2\" halign=\"left\">sum</th>\n",
              "      <th colspan=\"2\" halign=\"left\">count</th>\n",
              "    </tr>\n",
              "    <tr>\n",
              "      <th>home_away</th>\n",
              "      <th>Away</th>\n",
              "      <th>Home</th>\n",
              "      <th>Away</th>\n",
              "      <th>Home</th>\n",
              "    </tr>\n",
              "    <tr>\n",
              "      <th>opp</th>\n",
              "      <th></th>\n",
              "      <th></th>\n",
              "      <th></th>\n",
              "      <th></th>\n",
              "    </tr>\n",
              "  </thead>\n",
              "  <tbody>\n",
              "    <tr>\n",
              "      <th>Australia</th>\n",
              "      <td>1516.0</td>\n",
              "      <td>1561.0</td>\n",
              "      <td>40.0</td>\n",
              "      <td>30.0</td>\n",
              "    </tr>\n",
              "    <tr>\n",
              "      <th>Bangladesh</th>\n",
              "      <td>463.0</td>\n",
              "      <td>33.0</td>\n",
              "      <td>10.0</td>\n",
              "      <td>1.0</td>\n",
              "    </tr>\n",
              "    <tr>\n",
              "      <th>Bermuda</th>\n",
              "      <td>57.0</td>\n",
              "      <td>NaN</td>\n",
              "      <td>1.0</td>\n",
              "      <td>NaN</td>\n",
              "    </tr>\n",
              "    <tr>\n",
              "      <th>England</th>\n",
              "      <td>824.0</td>\n",
              "      <td>631.0</td>\n",
              "      <td>21.0</td>\n",
              "      <td>16.0</td>\n",
              "    </tr>\n",
              "    <tr>\n",
              "      <th>Ireland</th>\n",
              "      <td>4.0</td>\n",
              "      <td>38.0</td>\n",
              "      <td>1.0</td>\n",
              "      <td>1.0</td>\n",
              "    </tr>\n",
              "    <tr>\n",
              "      <th>Kenya</th>\n",
              "      <td>402.0</td>\n",
              "      <td>245.0</td>\n",
              "      <td>6.0</td>\n",
              "      <td>3.0</td>\n",
              "    </tr>\n",
              "    <tr>\n",
              "      <th>Namibia</th>\n",
              "      <td>152.0</td>\n",
              "      <td>NaN</td>\n",
              "      <td>1.0</td>\n",
              "      <td>NaN</td>\n",
              "    </tr>\n",
              "    <tr>\n",
              "      <th>Netherlands</th>\n",
              "      <td>52.0</td>\n",
              "      <td>27.0</td>\n",
              "      <td>1.0</td>\n",
              "      <td>1.0</td>\n",
              "    </tr>\n",
              "    <tr>\n",
              "      <th>New Zealand</th>\n",
              "      <td>929.0</td>\n",
              "      <td>821.0</td>\n",
              "      <td>25.0</td>\n",
              "      <td>16.0</td>\n",
              "    </tr>\n",
              "    <tr>\n",
              "      <th>Pakistan</th>\n",
              "      <td>1935.0</td>\n",
              "      <td>591.0</td>\n",
              "      <td>49.0</td>\n",
              "      <td>18.0</td>\n",
              "    </tr>\n",
              "    <tr>\n",
              "      <th>South Africa</th>\n",
              "      <td>1019.0</td>\n",
              "      <td>982.0</td>\n",
              "      <td>36.0</td>\n",
              "      <td>21.0</td>\n",
              "    </tr>\n",
              "    <tr>\n",
              "      <th>Sri Lanka</th>\n",
              "      <td>2035.0</td>\n",
              "      <td>1078.0</td>\n",
              "      <td>53.0</td>\n",
              "      <td>27.0</td>\n",
              "    </tr>\n",
              "    <tr>\n",
              "      <th>U.A.E.</th>\n",
              "      <td>81.0</td>\n",
              "      <td>NaN</td>\n",
              "      <td>2.0</td>\n",
              "      <td>NaN</td>\n",
              "    </tr>\n",
              "    <tr>\n",
              "      <th>West Indies</th>\n",
              "      <td>896.0</td>\n",
              "      <td>677.0</td>\n",
              "      <td>23.0</td>\n",
              "      <td>16.0</td>\n",
              "    </tr>\n",
              "    <tr>\n",
              "      <th>Zimbabwe</th>\n",
              "      <td>1049.0</td>\n",
              "      <td>328.0</td>\n",
              "      <td>23.0</td>\n",
              "      <td>10.0</td>\n",
              "    </tr>\n",
              "  </tbody>\n",
              "</table>\n",
              "</div>"
            ],
            "text/plain": [
              "                 sum         count      \n",
              "home_away       Away    Home  Away  Home\n",
              "opp                                     \n",
              "Australia     1516.0  1561.0  40.0  30.0\n",
              "Bangladesh     463.0    33.0  10.0   1.0\n",
              "Bermuda         57.0     NaN   1.0   NaN\n",
              "England        824.0   631.0  21.0  16.0\n",
              "Ireland          4.0    38.0   1.0   1.0\n",
              "Kenya          402.0   245.0   6.0   3.0\n",
              "Namibia        152.0     NaN   1.0   NaN\n",
              "Netherlands     52.0    27.0   1.0   1.0\n",
              "New Zealand    929.0   821.0  25.0  16.0\n",
              "Pakistan      1935.0   591.0  49.0  18.0\n",
              "South Africa  1019.0   982.0  36.0  21.0\n",
              "Sri Lanka     2035.0  1078.0  53.0  27.0\n",
              "U.A.E.          81.0     NaN   2.0   NaN\n",
              "West Indies    896.0   677.0  23.0  16.0\n",
              "Zimbabwe      1049.0   328.0  23.0  10.0"
            ]
          },
          "metadata": {
            "tags": []
          },
          "execution_count": 261
        }
      ]
    },
    {
      "metadata": {
        "id": "0qBPFc7YPSin",
        "colab_type": "code",
        "colab": {
          "base_uri": "https://localhost:8080/",
          "height": 494
        },
        "outputId": "7f839ab3-3eb1-4a4b-970b-b548d0c248ba"
      },
      "cell_type": "code",
      "source": [
        "# Most common way of getting out.\n",
        "\n",
        "d['dismissal'].value_counts().plot(kind=\"bar\",figsize = (20,7))"
      ],
      "execution_count": 262,
      "outputs": [
        {
          "output_type": "execute_result",
          "data": {
            "text/plain": [
              "<matplotlib.axes._subplots.AxesSubplot at 0x7fe803a09f10>"
            ]
          },
          "metadata": {
            "tags": []
          },
          "execution_count": 262
        },
        {
          "output_type": "display_data",
          "data": {
            "image/png": "[encoded data removed]",
            "text/plain": [
              "<matplotlib.figure.Figure at 0x7fe7fa4a46d0>"
            ]
          },
          "metadata": {
            "tags": []
          }
        }
      ]
    },
    {
      "metadata": {
        "id": "8eYU7wIn4tiy",
        "colab_type": "code",
        "colab": {}
      },
      "cell_type": "code",
      "source": [
        "match_res = pd.read_csv('drive/Colab Notebooks/SRT/match_results.csv')"
      ],
      "execution_count": 0,
      "outputs": []
    },
    {
      "metadata": {
        "id": "_rzXEaeU5ZuW",
        "colab_type": "code",
        "colab": {
          "base_uri": "https://localhost:8080/",
          "height": 204
        },
        "outputId": "f99a5a58-c9f4-4507-f685-25284b900868"
      },
      "cell_type": "code",
      "source": [
        "match_res.head()"
      ],
      "execution_count": 264,
      "outputs": [
        {
          "output_type": "execute_result",
          "data": {
            "text/html": [
              "<div>\n",
              "<style scoped>\n",
              "    .dataframe tbody tr th:only-of-type {\n",
              "        vertical-align: middle;\n",
              "    }\n",
              "\n",
              "    .dataframe tbody tr th {\n",
              "        vertical-align: top;\n",
              "    }\n",
              "\n",
              "    .dataframe thead th {\n",
              "        text-align: right;\n",
              "    }\n",
              "</style>\n",
              "<table border=\"1\" class=\"dataframe\">\n",
              "  <thead>\n",
              "    <tr style=\"text-align: right;\">\n",
              "      <th></th>\n",
              "      <th>odi</th>\n",
              "      <th>result</th>\n",
              "    </tr>\n",
              "  </thead>\n",
              "  <tbody>\n",
              "    <tr>\n",
              "      <th>0</th>\n",
              "      <td>ODI # 2647</td>\n",
              "      <td>Pakistan won by 31 runs</td>\n",
              "    </tr>\n",
              "    <tr>\n",
              "      <th>1</th>\n",
              "      <td>ODI # 1650</td>\n",
              "      <td>Sri Lanka won by 68 runs</td>\n",
              "    </tr>\n",
              "    <tr>\n",
              "      <th>2</th>\n",
              "      <td>ODI # 3100</td>\n",
              "      <td>India won by 87 runs</td>\n",
              "    </tr>\n",
              "    <tr>\n",
              "      <th>3</th>\n",
              "      <td>ODI # 993</td>\n",
              "      <td>India won by 9 wickets (with 133 balls remaining)</td>\n",
              "    </tr>\n",
              "    <tr>\n",
              "      <th>4</th>\n",
              "      <td>ODI # 858</td>\n",
              "      <td>India won by 102 runs</td>\n",
              "    </tr>\n",
              "  </tbody>\n",
              "</table>\n",
              "</div>"
            ],
            "text/plain": [
              "          odi                                             result\n",
              "0  ODI # 2647                            Pakistan won by 31 runs\n",
              "1  ODI # 1650                           Sri Lanka won by 68 runs\n",
              "2  ODI # 3100                               India won by 87 runs\n",
              "3   ODI # 993  India won by 9 wickets (with 133 balls remaining)\n",
              "4   ODI # 858                              India won by 102 runs"
            ]
          },
          "metadata": {
            "tags": []
          },
          "execution_count": 264
        }
      ]
    },
    {
      "metadata": {
        "id": "CD-Vx9zN45tO",
        "colab_type": "code",
        "colab": {}
      },
      "cell_type": "code",
      "source": [
        "data = pd.merge(d,match_res,on = 'odi')"
      ],
      "execution_count": 0,
      "outputs": []
    },
    {
      "metadata": {
        "id": "exIfsZ7L5LW8",
        "colab_type": "code",
        "colab": {
          "base_uri": "https://localhost:8080/",
          "height": 34
        },
        "outputId": "128e3991-515f-45e3-eef8-8be7e497847f"
      },
      "cell_type": "code",
      "source": [
        "data.shape"
      ],
      "execution_count": 266,
      "outputs": [
        {
          "output_type": "execute_result",
          "data": {
            "text/plain": [
              "(452, 16)"
            ]
          },
          "metadata": {
            "tags": []
          },
          "execution_count": 266
        }
      ]
    },
    {
      "metadata": {
        "id": "B28dHIs95LPp",
        "colab_type": "code",
        "colab": {
          "base_uri": "https://localhost:8080/",
          "height": 306
        },
        "outputId": "1eea4600-a708-4822-d05a-09255abdac41"
      },
      "cell_type": "code",
      "source": [
        "data.head()"
      ],
      "execution_count": 267,
      "outputs": [
        {
          "output_type": "execute_result",
          "data": {
            "text/html": [
              "<div>\n",
              "<style scoped>\n",
              "    .dataframe tbody tr th:only-of-type {\n",
              "        vertical-align: middle;\n",
              "    }\n",
              "\n",
              "    .dataframe tbody tr th {\n",
              "        vertical-align: top;\n",
              "    }\n",
              "\n",
              "    .dataframe thead th {\n",
              "        text-align: right;\n",
              "    }\n",
              "</style>\n",
              "<table border=\"1\" class=\"dataframe\">\n",
              "  <thead>\n",
              "    <tr style=\"text-align: right;\">\n",
              "      <th></th>\n",
              "      <th>score</th>\n",
              "      <th>mins</th>\n",
              "      <th>balls_faced</th>\n",
              "      <th>fours</th>\n",
              "      <th>sixes</th>\n",
              "      <th>sr</th>\n",
              "      <th>pos</th>\n",
              "      <th>dismissal</th>\n",
              "      <th>innings</th>\n",
              "      <th>opp</th>\n",
              "      <th>ground</th>\n",
              "      <th>start_date</th>\n",
              "      <th>odi</th>\n",
              "      <th>out_notout</th>\n",
              "      <th>home_away</th>\n",
              "      <th>result</th>\n",
              "    </tr>\n",
              "  </thead>\n",
              "  <tbody>\n",
              "    <tr>\n",
              "      <th>0</th>\n",
              "      <td>200</td>\n",
              "      <td>226.0</td>\n",
              "      <td>147</td>\n",
              "      <td>25</td>\n",
              "      <td>3</td>\n",
              "      <td>136.05</td>\n",
              "      <td>2</td>\n",
              "      <td>not out</td>\n",
              "      <td>1</td>\n",
              "      <td>South Africa</td>\n",
              "      <td>Gwalior</td>\n",
              "      <td>24 Feb 2010</td>\n",
              "      <td>ODI # 2962</td>\n",
              "      <td>not out</td>\n",
              "      <td>Home</td>\n",
              "      <td>India won by 153 runs</td>\n",
              "    </tr>\n",
              "    <tr>\n",
              "      <th>1</th>\n",
              "      <td>186</td>\n",
              "      <td>221.0</td>\n",
              "      <td>150</td>\n",
              "      <td>20</td>\n",
              "      <td>3</td>\n",
              "      <td>124.00</td>\n",
              "      <td>2</td>\n",
              "      <td>not out</td>\n",
              "      <td>1</td>\n",
              "      <td>New Zealand</td>\n",
              "      <td>Hyderabad (Deccan)</td>\n",
              "      <td>8 Nov 1999</td>\n",
              "      <td>ODI # 1523</td>\n",
              "      <td>not out</td>\n",
              "      <td>Home</td>\n",
              "      <td>India won by 174 runs</td>\n",
              "    </tr>\n",
              "    <tr>\n",
              "      <th>2</th>\n",
              "      <td>175</td>\n",
              "      <td>210.0</td>\n",
              "      <td>141</td>\n",
              "      <td>19</td>\n",
              "      <td>4</td>\n",
              "      <td>124.11</td>\n",
              "      <td>2</td>\n",
              "      <td>caught</td>\n",
              "      <td>2</td>\n",
              "      <td>Australia</td>\n",
              "      <td>Hyderabad (Deccan)</td>\n",
              "      <td>5 Nov 2009</td>\n",
              "      <td>ODI # 2923</td>\n",
              "      <td>out</td>\n",
              "      <td>Home</td>\n",
              "      <td>Australia won by 3 runs</td>\n",
              "    </tr>\n",
              "    <tr>\n",
              "      <th>3</th>\n",
              "      <td>163</td>\n",
              "      <td>206.0</td>\n",
              "      <td>133</td>\n",
              "      <td>16</td>\n",
              "      <td>5</td>\n",
              "      <td>122.55</td>\n",
              "      <td>2</td>\n",
              "      <td>retired notout</td>\n",
              "      <td>1</td>\n",
              "      <td>New Zealand</td>\n",
              "      <td>Christchurch</td>\n",
              "      <td>8 Mar 2009</td>\n",
              "      <td>ODI # 2823</td>\n",
              "      <td>out</td>\n",
              "      <td>Away</td>\n",
              "      <td>India won by 58 runs</td>\n",
              "    </tr>\n",
              "    <tr>\n",
              "      <th>4</th>\n",
              "      <td>152</td>\n",
              "      <td>193.0</td>\n",
              "      <td>151</td>\n",
              "      <td>18</td>\n",
              "      <td>0</td>\n",
              "      <td>100.66</td>\n",
              "      <td>2</td>\n",
              "      <td>bowled</td>\n",
              "      <td>1</td>\n",
              "      <td>Namibia</td>\n",
              "      <td>Pietermaritzburg</td>\n",
              "      <td>23 Feb 2003</td>\n",
              "      <td>ODI # 1964</td>\n",
              "      <td>out</td>\n",
              "      <td>Away</td>\n",
              "      <td>India won by 181 runs</td>\n",
              "    </tr>\n",
              "  </tbody>\n",
              "</table>\n",
              "</div>"
            ],
            "text/plain": [
              "   score   mins  balls_faced  fours  sixes      sr  pos       dismissal  \\\n",
              "0    200  226.0          147     25      3  136.05    2         not out   \n",
              "1    186  221.0          150     20      3  124.00    2         not out   \n",
              "2    175  210.0          141     19      4  124.11    2          caught   \n",
              "3    163  206.0          133     16      5  122.55    2  retired notout   \n",
              "4    152  193.0          151     18      0  100.66    2          bowled   \n",
              "\n",
              "  innings           opp              ground   start_date         odi  \\\n",
              "0       1  South Africa             Gwalior  24 Feb 2010  ODI # 2962   \n",
              "1       1   New Zealand  Hyderabad (Deccan)   8 Nov 1999  ODI # 1523   \n",
              "2       2     Australia  Hyderabad (Deccan)   5 Nov 2009  ODI # 2923   \n",
              "3       1   New Zealand        Christchurch   8 Mar 2009  ODI # 2823   \n",
              "4       1       Namibia    Pietermaritzburg  23 Feb 2003  ODI # 1964   \n",
              "\n",
              "  out_notout home_away                   result  \n",
              "0    not out      Home    India won by 153 runs  \n",
              "1    not out      Home    India won by 174 runs  \n",
              "2        out      Home  Australia won by 3 runs  \n",
              "3        out      Away     India won by 58 runs  \n",
              "4        out      Away    India won by 181 runs  "
            ]
          },
          "metadata": {
            "tags": []
          },
          "execution_count": 267
        }
      ]
    },
    {
      "metadata": {
        "id": "iU7wVaxe5LEg",
        "colab_type": "code",
        "colab": {}
      },
      "cell_type": "code",
      "source": [
        "def split_res(x):\n",
        "  try:\n",
        "    val = x.split('won')[0]\n",
        "    return val.strip()\n",
        "  except:\n",
        "    pass"
      ],
      "execution_count": 0,
      "outputs": []
    },
    {
      "metadata": {
        "id": "tyZc8OMY57mG",
        "colab_type": "code",
        "colab": {}
      },
      "cell_type": "code",
      "source": [
        "data['winner'] = data.result.apply(split_res)"
      ],
      "execution_count": 0,
      "outputs": []
    },
    {
      "metadata": {
        "id": "6bPtiIFu6WxV",
        "colab_type": "code",
        "colab": {
          "base_uri": "https://localhost:8080/",
          "height": 394
        },
        "outputId": "dfc2ea3d-a55a-45b4-b1f0-4cd78176a8b6"
      },
      "cell_type": "code",
      "source": [
        "data.head()"
      ],
      "execution_count": 292,
      "outputs": [
        {
          "output_type": "execute_result",
          "data": {
            "text/html": [
              "<div>\n",
              "<style scoped>\n",
              "    .dataframe tbody tr th:only-of-type {\n",
              "        vertical-align: middle;\n",
              "    }\n",
              "\n",
              "    .dataframe tbody tr th {\n",
              "        vertical-align: top;\n",
              "    }\n",
              "\n",
              "    .dataframe thead th {\n",
              "        text-align: right;\n",
              "    }\n",
              "</style>\n",
              "<table border=\"1\" class=\"dataframe\">\n",
              "  <thead>\n",
              "    <tr style=\"text-align: right;\">\n",
              "      <th></th>\n",
              "      <th>score</th>\n",
              "      <th>mins</th>\n",
              "      <th>balls_faced</th>\n",
              "      <th>fours</th>\n",
              "      <th>sixes</th>\n",
              "      <th>sr</th>\n",
              "      <th>pos</th>\n",
              "      <th>dismissal</th>\n",
              "      <th>innings</th>\n",
              "      <th>opp</th>\n",
              "      <th>ground</th>\n",
              "      <th>start_date</th>\n",
              "      <th>odi</th>\n",
              "      <th>out_notout</th>\n",
              "      <th>home_away</th>\n",
              "      <th>result</th>\n",
              "      <th>winner</th>\n",
              "      <th>win_loose</th>\n",
              "    </tr>\n",
              "  </thead>\n",
              "  <tbody>\n",
              "    <tr>\n",
              "      <th>0</th>\n",
              "      <td>200</td>\n",
              "      <td>226.0</td>\n",
              "      <td>147</td>\n",
              "      <td>25</td>\n",
              "      <td>3</td>\n",
              "      <td>136.05</td>\n",
              "      <td>2</td>\n",
              "      <td>not out</td>\n",
              "      <td>1</td>\n",
              "      <td>South Africa</td>\n",
              "      <td>Gwalior</td>\n",
              "      <td>24 Feb 2010</td>\n",
              "      <td>ODI # 2962</td>\n",
              "      <td>not out</td>\n",
              "      <td>Home</td>\n",
              "      <td>India won by 153 runs</td>\n",
              "      <td>India</td>\n",
              "      <td>Loose</td>\n",
              "    </tr>\n",
              "    <tr>\n",
              "      <th>1</th>\n",
              "      <td>186</td>\n",
              "      <td>221.0</td>\n",
              "      <td>150</td>\n",
              "      <td>20</td>\n",
              "      <td>3</td>\n",
              "      <td>124.00</td>\n",
              "      <td>2</td>\n",
              "      <td>not out</td>\n",
              "      <td>1</td>\n",
              "      <td>New Zealand</td>\n",
              "      <td>Hyderabad (Deccan)</td>\n",
              "      <td>8 Nov 1999</td>\n",
              "      <td>ODI # 1523</td>\n",
              "      <td>not out</td>\n",
              "      <td>Home</td>\n",
              "      <td>India won by 174 runs</td>\n",
              "      <td>India</td>\n",
              "      <td>Loose</td>\n",
              "    </tr>\n",
              "    <tr>\n",
              "      <th>2</th>\n",
              "      <td>175</td>\n",
              "      <td>210.0</td>\n",
              "      <td>141</td>\n",
              "      <td>19</td>\n",
              "      <td>4</td>\n",
              "      <td>124.11</td>\n",
              "      <td>2</td>\n",
              "      <td>caught</td>\n",
              "      <td>2</td>\n",
              "      <td>Australia</td>\n",
              "      <td>Hyderabad (Deccan)</td>\n",
              "      <td>5 Nov 2009</td>\n",
              "      <td>ODI # 2923</td>\n",
              "      <td>out</td>\n",
              "      <td>Home</td>\n",
              "      <td>Australia won by 3 runs</td>\n",
              "      <td>Australia</td>\n",
              "      <td>Loose</td>\n",
              "    </tr>\n",
              "    <tr>\n",
              "      <th>3</th>\n",
              "      <td>163</td>\n",
              "      <td>206.0</td>\n",
              "      <td>133</td>\n",
              "      <td>16</td>\n",
              "      <td>5</td>\n",
              "      <td>122.55</td>\n",
              "      <td>2</td>\n",
              "      <td>retired notout</td>\n",
              "      <td>1</td>\n",
              "      <td>New Zealand</td>\n",
              "      <td>Christchurch</td>\n",
              "      <td>8 Mar 2009</td>\n",
              "      <td>ODI # 2823</td>\n",
              "      <td>out</td>\n",
              "      <td>Away</td>\n",
              "      <td>India won by 58 runs</td>\n",
              "      <td>India</td>\n",
              "      <td>Loose</td>\n",
              "    </tr>\n",
              "    <tr>\n",
              "      <th>4</th>\n",
              "      <td>152</td>\n",
              "      <td>193.0</td>\n",
              "      <td>151</td>\n",
              "      <td>18</td>\n",
              "      <td>0</td>\n",
              "      <td>100.66</td>\n",
              "      <td>2</td>\n",
              "      <td>bowled</td>\n",
              "      <td>1</td>\n",
              "      <td>Namibia</td>\n",
              "      <td>Pietermaritzburg</td>\n",
              "      <td>23 Feb 2003</td>\n",
              "      <td>ODI # 1964</td>\n",
              "      <td>out</td>\n",
              "      <td>Away</td>\n",
              "      <td>India won by 181 runs</td>\n",
              "      <td>India</td>\n",
              "      <td>Loose</td>\n",
              "    </tr>\n",
              "  </tbody>\n",
              "</table>\n",
              "</div>"
            ],
            "text/plain": [
              "   score   mins  balls_faced  fours  sixes      sr  pos       dismissal  \\\n",
              "0    200  226.0          147     25      3  136.05    2         not out   \n",
              "1    186  221.0          150     20      3  124.00    2         not out   \n",
              "2    175  210.0          141     19      4  124.11    2          caught   \n",
              "3    163  206.0          133     16      5  122.55    2  retired notout   \n",
              "4    152  193.0          151     18      0  100.66    2          bowled   \n",
              "\n",
              "  innings           opp              ground   start_date         odi  \\\n",
              "0       1  South Africa             Gwalior  24 Feb 2010  ODI # 2962   \n",
              "1       1   New Zealand  Hyderabad (Deccan)   8 Nov 1999  ODI # 1523   \n",
              "2       2     Australia  Hyderabad (Deccan)   5 Nov 2009  ODI # 2923   \n",
              "3       1   New Zealand        Christchurch   8 Mar 2009  ODI # 2823   \n",
              "4       1       Namibia    Pietermaritzburg  23 Feb 2003  ODI # 1964   \n",
              "\n",
              "  out_notout home_away                   result     winner win_loose  \n",
              "0    not out      Home    India won by 153 runs      India     Loose  \n",
              "1    not out      Home    India won by 174 runs      India     Loose  \n",
              "2        out      Home  Australia won by 3 runs  Australia     Loose  \n",
              "3        out      Away     India won by 58 runs      India     Loose  \n",
              "4        out      Away    India won by 181 runs      India     Loose  "
            ]
          },
          "metadata": {
            "tags": []
          },
          "execution_count": 292
        }
      ]
    },
    {
      "metadata": {
        "id": "ti75NL1_9whw",
        "colab_type": "code",
        "colab": {}
      },
      "cell_type": "code",
      "source": [
        "data['win_loose'] = np.where(data['winner'] == \"India\",\"Win\",\"Loose\")"
      ],
      "execution_count": 0,
      "outputs": []
    },
    {
      "metadata": {
        "id": "DRibNGzQ6hU2",
        "colab_type": "code",
        "colab": {}
      },
      "cell_type": "code",
      "source": [
        "# Finally!\n",
        "\n",
        "centurion_inns = data[data['score']>=100]"
      ],
      "execution_count": 0,
      "outputs": []
    },
    {
      "metadata": {
        "id": "gQHKFrUs6hQm",
        "colab_type": "code",
        "colab": {
          "base_uri": "https://localhost:8080/",
          "height": 34
        },
        "outputId": "fb4bf8b8-52ce-4135-bf6a-1a2960993e4c"
      },
      "cell_type": "code",
      "source": [
        "centurion_inns.shape"
      ],
      "execution_count": 296,
      "outputs": [
        {
          "output_type": "execute_result",
          "data": {
            "text/plain": [
              "(49, 18)"
            ]
          },
          "metadata": {
            "tags": []
          },
          "execution_count": 296
        }
      ]
    },
    {
      "metadata": {
        "id": "f1Ga-1l96hK1",
        "colab_type": "code",
        "colab": {
          "base_uri": "https://localhost:8080/",
          "height": 204
        },
        "outputId": "60d6bc1a-c991-410c-8b11-e99d6bada2d1"
      },
      "cell_type": "code",
      "source": [
        "centurion_inns.groupby(['win_loose','home_away','opp'])['score'].count().sort_values(ascending = False).unstack().fillna(0)"
      ],
      "execution_count": 309,
      "outputs": [
        {
          "output_type": "execute_result",
          "data": {
            "text/html": [
              "<div>\n",
              "<style scoped>\n",
              "    .dataframe tbody tr th:only-of-type {\n",
              "        vertical-align: middle;\n",
              "    }\n",
              "\n",
              "    .dataframe tbody tr th {\n",
              "        vertical-align: top;\n",
              "    }\n",
              "\n",
              "    .dataframe thead th {\n",
              "        text-align: right;\n",
              "    }\n",
              "</style>\n",
              "<table border=\"1\" class=\"dataframe\">\n",
              "  <thead>\n",
              "    <tr style=\"text-align: right;\">\n",
              "      <th></th>\n",
              "      <th>opp</th>\n",
              "      <th>Australia</th>\n",
              "      <th>Bangladesh</th>\n",
              "      <th>England</th>\n",
              "      <th>Kenya</th>\n",
              "      <th>Namibia</th>\n",
              "      <th>New Zealand</th>\n",
              "      <th>Pakistan</th>\n",
              "      <th>South Africa</th>\n",
              "      <th>Sri Lanka</th>\n",
              "      <th>West Indies</th>\n",
              "      <th>Zimbabwe</th>\n",
              "    </tr>\n",
              "    <tr>\n",
              "      <th>win_loose</th>\n",
              "      <th>home_away</th>\n",
              "      <th></th>\n",
              "      <th></th>\n",
              "      <th></th>\n",
              "      <th></th>\n",
              "      <th></th>\n",
              "      <th></th>\n",
              "      <th></th>\n",
              "      <th></th>\n",
              "      <th></th>\n",
              "      <th></th>\n",
              "      <th></th>\n",
              "    </tr>\n",
              "  </thead>\n",
              "  <tbody>\n",
              "    <tr>\n",
              "      <th rowspan=\"2\" valign=\"top\">Loose</th>\n",
              "      <th>Away</th>\n",
              "      <td>1.0</td>\n",
              "      <td>1.0</td>\n",
              "      <td>1.0</td>\n",
              "      <td>0.0</td>\n",
              "      <td>0.0</td>\n",
              "      <td>0.0</td>\n",
              "      <td>3.0</td>\n",
              "      <td>1.0</td>\n",
              "      <td>2.0</td>\n",
              "      <td>1.0</td>\n",
              "      <td>0.0</td>\n",
              "    </tr>\n",
              "    <tr>\n",
              "      <th>Home</th>\n",
              "      <td>1.0</td>\n",
              "      <td>0.0</td>\n",
              "      <td>1.0</td>\n",
              "      <td>0.0</td>\n",
              "      <td>0.0</td>\n",
              "      <td>0.0</td>\n",
              "      <td>1.0</td>\n",
              "      <td>1.0</td>\n",
              "      <td>1.0</td>\n",
              "      <td>0.0</td>\n",
              "      <td>1.0</td>\n",
              "    </tr>\n",
              "    <tr>\n",
              "      <th rowspan=\"2\" valign=\"top\">Win</th>\n",
              "      <th>Away</th>\n",
              "      <td>4.0</td>\n",
              "      <td>0.0</td>\n",
              "      <td>0.0</td>\n",
              "      <td>2.0</td>\n",
              "      <td>1.0</td>\n",
              "      <td>1.0</td>\n",
              "      <td>1.0</td>\n",
              "      <td>0.0</td>\n",
              "      <td>5.0</td>\n",
              "      <td>1.0</td>\n",
              "      <td>4.0</td>\n",
              "    </tr>\n",
              "    <tr>\n",
              "      <th>Home</th>\n",
              "      <td>3.0</td>\n",
              "      <td>0.0</td>\n",
              "      <td>0.0</td>\n",
              "      <td>2.0</td>\n",
              "      <td>0.0</td>\n",
              "      <td>4.0</td>\n",
              "      <td>0.0</td>\n",
              "      <td>3.0</td>\n",
              "      <td>0.0</td>\n",
              "      <td>2.0</td>\n",
              "      <td>0.0</td>\n",
              "    </tr>\n",
              "  </tbody>\n",
              "</table>\n",
              "</div>"
            ],
            "text/plain": [
              "opp                  Australia  Bangladesh  England  Kenya  Namibia  \\\n",
              "win_loose home_away                                                   \n",
              "Loose     Away             1.0         1.0      1.0    0.0      0.0   \n",
              "          Home             1.0         0.0      1.0    0.0      0.0   \n",
              "Win       Away             4.0         0.0      0.0    2.0      1.0   \n",
              "          Home             3.0         0.0      0.0    2.0      0.0   \n",
              "\n",
              "opp                  New Zealand  Pakistan  South Africa  Sri Lanka  \\\n",
              "win_loose home_away                                                   \n",
              "Loose     Away               0.0       3.0           1.0        2.0   \n",
              "          Home               0.0       1.0           1.0        1.0   \n",
              "Win       Away               1.0       1.0           0.0        5.0   \n",
              "          Home               4.0       0.0           3.0        0.0   \n",
              "\n",
              "opp                  West Indies  Zimbabwe  \n",
              "win_loose home_away                         \n",
              "Loose     Away               1.0       0.0  \n",
              "          Home               0.0       1.0  \n",
              "Win       Away               1.0       4.0  \n",
              "          Home               2.0       0.0  "
            ]
          },
          "metadata": {
            "tags": []
          },
          "execution_count": 309
        }
      ]
    },
    {
      "metadata": {
        "id": "LUcLR6MoH1Ul",
        "colab_type": "code",
        "colab": {
          "base_uri": "https://localhost:8080/",
          "height": 85
        },
        "outputId": "192ad1e1-4ce0-44fd-8eb5-6a988fa418b0"
      },
      "cell_type": "code",
      "source": [
        "## Let's figure out how many times india won when Sachin scored less than 100\n",
        "\n",
        "centurion_inns.groupby('win_loose')['score'].count()"
      ],
      "execution_count": 321,
      "outputs": [
        {
          "output_type": "execute_result",
          "data": {
            "text/plain": [
              "win_loose\n",
              "Loose    16\n",
              "Win      33\n",
              "Name: score, dtype: int64"
            ]
          },
          "metadata": {
            "tags": []
          },
          "execution_count": 321
        }
      ]
    },
    {
      "metadata": {
        "id": "lIzE9QFwIAuX",
        "colab_type": "code",
        "colab": {
          "base_uri": "https://localhost:8080/",
          "height": 34
        },
        "outputId": "589165b9-d0b4-43f8-ab45-74352be6ebdf"
      },
      "cell_type": "code",
      "source": [
        "print \"When Sachin scores a century or more India's win % is {}\".format(round((33/49.0)*100,2))"
      ],
      "execution_count": 345,
      "outputs": [
        {
          "output_type": "stream",
          "text": [
            "When Sachin scores a century or more India's win % is 67.35\n"
          ],
          "name": "stdout"
        }
      ]
    },
    {
      "metadata": {
        "id": "tm9xFkS5GrRC",
        "colab_type": "code",
        "colab": {
          "base_uri": "https://localhost:8080/",
          "height": 85
        },
        "outputId": "23c06bf9-5a4e-498d-b00c-8d37ba6627f7"
      },
      "cell_type": "code",
      "source": [
        "\n",
        "data[(data['score']<100) & (data['score']>=50)].groupby('win_loose')['score'].count()"
      ],
      "execution_count": 341,
      "outputs": [
        {
          "output_type": "execute_result",
          "data": {
            "text/plain": [
              "win_loose\n",
              "Loose    37\n",
              "Win      59\n",
              "Name: score, dtype: int64"
            ]
          },
          "metadata": {
            "tags": []
          },
          "execution_count": 341
        }
      ]
    },
    {
      "metadata": {
        "id": "ZauQlS5XJikF",
        "colab_type": "code",
        "colab": {
          "base_uri": "https://localhost:8080/",
          "height": 34
        },
        "outputId": "83e0a63c-84a2-4e87-9577-e3f4bda6bdca"
      },
      "cell_type": "code",
      "source": [
        "print \"So that's {}%  win\".format(round((59.0/(59+37))*100,2))"
      ],
      "execution_count": 343,
      "outputs": [
        {
          "output_type": "stream",
          "text": [
            "So that's 61.46%  win\n"
          ],
          "name": "stdout"
        }
      ]
    },
    {
      "metadata": {
        "id": "T3a_H2UBGcz1",
        "colab_type": "code",
        "colab": {
          "base_uri": "https://localhost:8080/",
          "height": 85
        },
        "outputId": "2588a132-4a43-4df0-ecc8-aa7786fda3ad"
      },
      "cell_type": "code",
      "source": [
        "data[(data['score']<50)].groupby('win_loose')['score'].count()"
      ],
      "execution_count": 342,
      "outputs": [
        {
          "output_type": "execute_result",
          "data": {
            "text/plain": [
              "win_loose\n",
              "Loose    168\n",
              "Win      139\n",
              "Name: score, dtype: int64"
            ]
          },
          "metadata": {
            "tags": []
          },
          "execution_count": 342
        }
      ]
    },
    {
      "metadata": {
        "id": "XUtLSaY7Jrgj",
        "colab_type": "code",
        "colab": {
          "base_uri": "https://localhost:8080/",
          "height": 34
        },
        "outputId": "001ad3e7-ea64-4e8d-bcbf-d58bdb6781ae"
      },
      "cell_type": "code",
      "source": [
        "print \"So that's {}%  win\".format(round((139.0/(139+168))*100,2))"
      ],
      "execution_count": 344,
      "outputs": [
        {
          "output_type": "stream",
          "text": [
            "So that's 45.28%  win\n"
          ],
          "name": "stdout"
        }
      ]
    },
    {
      "metadata": {
        "id": "K5xWqdil4m_C",
        "colab_type": "text"
      },
      "cell_type": "markdown",
      "source": [
        "### Scraping"
      ]
    },
    {
      "metadata": {
        "id": "yRxJuGavQgE_",
        "colab_type": "code",
        "colab": {}
      },
      "cell_type": "code",
      "source": [
        "# Let's try and scrape data from cricinfo, with appropriate wait times so we dont overload the website with requests."
      ],
      "execution_count": 0,
      "outputs": []
    },
    {
      "metadata": {
        "id": "VUWmMEuCatR_",
        "colab_type": "code",
        "colab": {}
      },
      "cell_type": "code",
      "source": [
        "# Same link from where we got the table above, on the page each of ODI id is a link to the scorecard of that game.\n",
        "# so lets get ODI numbers and related hyperlinks\n",
        "\n",
        "r = requests.get('http://stats.espncricinfo.com/ci/engine/player/35320.html?class=2;orderby=sixes;template=results;type=batting;view=innings')\n",
        "\n",
        "# Soup will save the html\n",
        "soup = BeautifulSoup(r.content, 'html.parser')"
      ],
      "execution_count": 0,
      "outputs": []
    },
    {
      "metadata": {
        "id": "sCASNzxEbuy0",
        "colab_type": "code",
        "colab": {
          "base_uri": "https://localhost:8080/",
          "height": 34
        },
        "outputId": "1a48aed4-7a73-46f0-cb78-970047876497"
      },
      "cell_type": "code",
      "source": [
        "# This title was common for all games, so scraping the page to consolidate all such lines\n",
        "# hopefully 460 odd matching number of SRT games.\n",
        "\n",
        "list_of_matches = soup.find_all(title=\"view the scorecard for this row\")\n",
        "\n",
        "print \"Number of ODI links in the page is: {}\".format(len(list_of_matches))"
      ],
      "execution_count": 147,
      "outputs": [
        {
          "output_type": "stream",
          "text": [
            "Number of ODI links in the page is: 463\n"
          ],
          "name": "stdout"
        }
      ]
    },
    {
      "metadata": {
        "id": "Xf5Qm6sWclL2",
        "colab_type": "code",
        "colab": {
          "base_uri": "https://localhost:8080/",
          "height": 34
        },
        "outputId": "bb0e2011-a619-408e-ddfd-5dd38b91cd44"
      },
      "cell_type": "code",
      "source": [
        "# Lets try and work out how to get individual scorecard link now that we have all links\n",
        "\n",
        "# Taking one line\n",
        "a = list_of_matches[0]\n",
        "a"
      ],
      "execution_count": 148,
      "outputs": [
        {
          "output_type": "execute_result",
          "data": {
            "text/plain": [
              "<a href=\"/ci/engine/match/66140.html\" title=\"view the scorecard for this row\">ODI # 1308</a>"
            ]
          },
          "metadata": {
            "tags": []
          },
          "execution_count": 148
        }
      ]
    },
    {
      "metadata": {
        "id": "O54gbf4PcunR",
        "colab_type": "code",
        "colab": {
          "base_uri": "https://localhost:8080/",
          "height": 34
        },
        "outputId": "238b10aa-90b7-4d3b-9b5a-498e88c6f8fd"
      },
      "cell_type": "code",
      "source": [
        "# Get score card link\n",
        "\n",
        "str(a.get(\"href\"))"
      ],
      "execution_count": 149,
      "outputs": [
        {
          "output_type": "execute_result",
          "data": {
            "text/plain": [
              "'/ci/engine/match/66140.html'"
            ]
          },
          "metadata": {
            "tags": []
          },
          "execution_count": 149
        }
      ]
    },
    {
      "metadata": {
        "id": "rPtzr8pYc13o",
        "colab_type": "code",
        "colab": {
          "base_uri": "https://localhost:8080/",
          "height": 34
        },
        "outputId": "672f685f-f921-4757-cea5-eed150a4f3e6"
      },
      "cell_type": "code",
      "source": [
        "#Get ODI Number\n",
        "\n",
        "str(a).split(\">\")[-2].split(\"<\")[0]"
      ],
      "execution_count": 150,
      "outputs": [
        {
          "output_type": "execute_result",
          "data": {
            "text/plain": [
              "'ODI # 1308'"
            ]
          },
          "metadata": {
            "tags": []
          },
          "execution_count": 150
        }
      ]
    },
    {
      "metadata": {
        "id": "Pzx4OXmfdu0o",
        "colab_type": "code",
        "colab": {}
      },
      "cell_type": "code",
      "source": [
        "# This needs to be concatenated to the score card link.\n",
        "\n",
        "key = \" http://stats.espncricinfo.com\""
      ],
      "execution_count": 0,
      "outputs": []
    },
    {
      "metadata": {
        "id": "TPHJYSJIf2Jv",
        "colab_type": "code",
        "colab": {}
      },
      "cell_type": "code",
      "source": [
        "# Create a dict to store values\n",
        "odi_dict = {}"
      ],
      "execution_count": 0,
      "outputs": []
    },
    {
      "metadata": {
        "id": "yAdHNFWDf5u7",
        "colab_type": "code",
        "colab": {}
      },
      "cell_type": "code",
      "source": [
        "for game in list_of_matches:\n",
        "  odi_dict[str(game).split(\">\")[-2].split(\"<\")[0]] = key+str(game.get(\"href\"))"
      ],
      "execution_count": 0,
      "outputs": []
    },
    {
      "metadata": {
        "id": "HLVSip0pgPLN",
        "colab_type": "code",
        "colab": {
          "base_uri": "https://localhost:8080/",
          "height": 34
        },
        "outputId": "8f7d3b3c-38c2-4e01-bd3e-8eb380f345af"
      },
      "cell_type": "code",
      "source": [
        "# Check\n",
        "odi_dict.items()[10]"
      ],
      "execution_count": 161,
      "outputs": [
        {
          "output_type": "execute_result",
          "data": {
            "text/plain": [
              "('ODI # 855', ' http://stats.espncricinfo.com/ci/engine/match/65970.html')"
            ]
          },
          "metadata": {
            "tags": []
          },
          "execution_count": 161
        }
      ]
    },
    {
      "metadata": {
        "id": "XjxazuM8kJqg",
        "colab_type": "code",
        "colab": {
          "base_uri": "https://localhost:8080/",
          "height": 34
        },
        "outputId": "8f23d79e-de22-463f-fea6-41559433936f"
      },
      "cell_type": "code",
      "source": [
        "odi_dict.items()[10][1]"
      ],
      "execution_count": 162,
      "outputs": [
        {
          "output_type": "execute_result",
          "data": {
            "text/plain": [
              "' http://stats.espncricinfo.com/ci/engine/match/65970.html'"
            ]
          },
          "metadata": {
            "tags": []
          },
          "execution_count": 162
        }
      ]
    },
    {
      "metadata": {
        "id": "qTI_wf9wgThh",
        "colab_type": "code",
        "colab": {}
      },
      "cell_type": "code",
      "source": [
        "# Seems to have worked! Now open 460+ webpages and get winners from them."
      ],
      "execution_count": 0,
      "outputs": []
    },
    {
      "metadata": {
        "id": "FVxUOwVjgyiu",
        "colab_type": "code",
        "colab": {}
      },
      "cell_type": "code",
      "source": [
        "# Prototype one example.\n",
        "\n",
        "req = requests.get(odi_dict.items()[10][1])\n",
        "web_page = BeautifulSoup(req.content, 'html.parser')"
      ],
      "execution_count": 0,
      "outputs": []
    },
    {
      "metadata": {
        "id": "nB28tuaghZ4r",
        "colab_type": "code",
        "colab": {
          "base_uri": "https://localhost:8080/",
          "height": 51
        },
        "outputId": "bb36be30-9837-413f-dac0-c5b2b55842f5"
      },
      "cell_type": "code",
      "source": [
        "web_page.find_all('span',{'class':'cscore_notes_game'})"
      ],
      "execution_count": 165,
      "outputs": [
        {
          "output_type": "execute_result",
          "data": {
            "text/plain": [
              "[<span class=\"cscore_notes_game\" data-reactid=\".ahkob12k8w.3.0.1:$ghf.0.0.1.0.0\">India won by 43 runs</span>,\n",
              " <span class=\"cscore_notes_game\" data-reactid=\".ahkob12k8w.3.0.1:$bc.0.0.0.0.1.0.0\">India won by 43 runs</span>]"
            ]
          },
          "metadata": {
            "tags": []
          },
          "execution_count": 165
        }
      ]
    },
    {
      "metadata": {
        "id": "opzRpqrXiVbb",
        "colab_type": "code",
        "colab": {}
      },
      "cell_type": "code",
      "source": [
        "# Get the main thing from the string:\n",
        "\n",
        "v = str(web_page.find_all('span',{'class':'cscore_notes_game'})[0])"
      ],
      "execution_count": 0,
      "outputs": []
    },
    {
      "metadata": {
        "id": "F-BuPtItnI7J",
        "colab_type": "code",
        "colab": {
          "base_uri": "https://localhost:8080/",
          "height": 34
        },
        "outputId": "6c92241a-3a7d-4b75-a014-cf3bbc6d9a96"
      },
      "cell_type": "code",
      "source": [
        "v.split(\">\")[-2].split(\"<\")[0]"
      ],
      "execution_count": 170,
      "outputs": [
        {
          "output_type": "execute_result",
          "data": {
            "text/plain": [
              "'India won by 43 runs'"
            ]
          },
          "metadata": {
            "tags": []
          },
          "execution_count": 170
        }
      ]
    },
    {
      "metadata": {
        "id": "Fz_pH22anc_U",
        "colab_type": "code",
        "colab": {}
      },
      "cell_type": "code",
      "source": [
        "import time"
      ],
      "execution_count": 0,
      "outputs": []
    },
    {
      "metadata": {
        "id": "YmIWdOXynS7o",
        "colab_type": "code",
        "colab": {}
      },
      "cell_type": "code",
      "source": [
        "final_dict = {}\n",
        "\n",
        "def get_win_loss():\n",
        "  for key, val in odi_dict.items():\n",
        "    time.sleep(3)\n",
        "    try:\n",
        "      req = requests.get(val)\n",
        "      w_p = BeautifulSoup(req.content, 'html.parser')\n",
        "      v = str(w_p.find_all('span',{'class':'cscore_notes_game'})[0])\n",
        "      final_dict[key] = v.split(\">\")[-2].split(\"<\")[0]\n",
        "    except:\n",
        "      final_dict[key] = \"Error\""
      ],
      "execution_count": 0,
      "outputs": []
    },
    {
      "metadata": {
        "id": "HbUcdVNjnpDG",
        "colab_type": "code",
        "colab": {}
      },
      "cell_type": "code",
      "source": [
        "get_win_loss()"
      ],
      "execution_count": 0,
      "outputs": []
    },
    {
      "metadata": {
        "id": "fln-F7E53vif",
        "colab_type": "code",
        "colab": {
          "base_uri": "https://localhost:8080/",
          "height": 34
        },
        "outputId": "c938a9c1-18b8-40aa-a0cf-23485c555a85"
      },
      "cell_type": "code",
      "source": [
        "len(final_dict.values())"
      ],
      "execution_count": 183,
      "outputs": [
        {
          "output_type": "execute_result",
          "data": {
            "text/plain": [
              "463"
            ]
          },
          "metadata": {
            "tags": []
          },
          "execution_count": 183
        }
      ]
    },
    {
      "metadata": {
        "id": "sEq8f7XR31w_",
        "colab_type": "code",
        "colab": {}
      },
      "cell_type": "code",
      "source": [
        "match_results = pd.DataFrame(final_dict.items(), columns=['odi','result'])"
      ],
      "execution_count": 0,
      "outputs": []
    },
    {
      "metadata": {
        "id": "m5EiJQrr4PeC",
        "colab_type": "code",
        "colab": {
          "base_uri": "https://localhost:8080/",
          "height": 204
        },
        "outputId": "47087320-d1ae-419f-b7f8-ecb73193f16f"
      },
      "cell_type": "code",
      "source": [
        "match_results.head()"
      ],
      "execution_count": 186,
      "outputs": [
        {
          "output_type": "execute_result",
          "data": {
            "text/html": [
              "<div>\n",
              "<style scoped>\n",
              "    .dataframe tbody tr th:only-of-type {\n",
              "        vertical-align: middle;\n",
              "    }\n",
              "\n",
              "    .dataframe tbody tr th {\n",
              "        vertical-align: top;\n",
              "    }\n",
              "\n",
              "    .dataframe thead th {\n",
              "        text-align: right;\n",
              "    }\n",
              "</style>\n",
              "<table border=\"1\" class=\"dataframe\">\n",
              "  <thead>\n",
              "    <tr style=\"text-align: right;\">\n",
              "      <th></th>\n",
              "      <th>odi</th>\n",
              "      <th>result</th>\n",
              "    </tr>\n",
              "  </thead>\n",
              "  <tbody>\n",
              "    <tr>\n",
              "      <th>0</th>\n",
              "      <td>ODI # 2647</td>\n",
              "      <td>Pakistan won by 31 runs</td>\n",
              "    </tr>\n",
              "    <tr>\n",
              "      <th>1</th>\n",
              "      <td>ODI # 1650</td>\n",
              "      <td>Sri Lanka won by 68 runs</td>\n",
              "    </tr>\n",
              "    <tr>\n",
              "      <th>2</th>\n",
              "      <td>ODI # 3100</td>\n",
              "      <td>India won by 87 runs</td>\n",
              "    </tr>\n",
              "    <tr>\n",
              "      <th>3</th>\n",
              "      <td>ODI # 993</td>\n",
              "      <td>India won by 9 wickets (with 133 balls remaining)</td>\n",
              "    </tr>\n",
              "    <tr>\n",
              "      <th>4</th>\n",
              "      <td>ODI # 858</td>\n",
              "      <td>India won by 102 runs</td>\n",
              "    </tr>\n",
              "  </tbody>\n",
              "</table>\n",
              "</div>"
            ],
            "text/plain": [
              "          odi                                             result\n",
              "0  ODI # 2647                            Pakistan won by 31 runs\n",
              "1  ODI # 1650                           Sri Lanka won by 68 runs\n",
              "2  ODI # 3100                               India won by 87 runs\n",
              "3   ODI # 993  India won by 9 wickets (with 133 balls remaining)\n",
              "4   ODI # 858                              India won by 102 runs"
            ]
          },
          "metadata": {
            "tags": []
          },
          "execution_count": 186
        }
      ]
    },
    {
      "metadata": {
        "id": "6XdjyXoC4RC3",
        "colab_type": "code",
        "colab": {}
      },
      "cell_type": "code",
      "source": [
        "match_results.to_csv('drive/Colab Notebooks/SRT/match_results.csv',index=False)"
      ],
      "execution_count": 0,
      "outputs": []
    }
  ]
}